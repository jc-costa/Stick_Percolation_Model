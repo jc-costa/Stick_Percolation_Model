{
 "cells": [
  {
   "cell_type": "code",
   "execution_count": null,
   "id": "b8b00ba7",
   "metadata": {
    "id": "b8b00ba7"
   },
   "outputs": [],
   "source": [
    "import random\n",
    "import numpy as np\n",
    "import math\n",
    "import matplotlib.pyplot as plt\n",
    "from collections import deque"
   ]
  },
  {
   "cell_type": "code",
   "execution_count": null,
   "id": "bdcba4f5",
   "metadata": {
    "id": "bdcba4f5"
   },
   "outputs": [],
   "source": [
    "a = 0.06\n",
    "points_1 = []\n",
    "points_2 = []\n",
    "edges = []\n",
    "nodes = []\n",
    "intersected_line_1 = []\n",
    "intersected_line_2 = []\n",
    "intersections_points = []\n",
    "N = 0\n",
    "alphas = []"
   ]
  },
  {
   "cell_type": "code",
   "execution_count": null,
   "id": "LthRD85y6qYd",
   "metadata": {
    "id": "LthRD85y6qYd"
   },
   "outputs": [],
   "source": [
    "def points(N):\n",
    "    for i in range(N):\n",
    "        #Generate random (x1, y1) coordinates in the range [0, 1)\n",
    "        x_1 = np.random.uniform(0, 1)\n",
    "        y_1 = np.random.uniform(0, 1)\n",
    "\n",
    "        #Append the generated point to the 'points_1' list\n",
    "        points_1.append((x_1, y_1))\n",
    "\n",
    "        #Generate a random angle value in the range [0, 2*pi)\n",
    "        alpha_value = np.random.uniform(0, 2 * np.pi)\n",
    "\n",
    "        #Append the generated alpha value to the 'alphas' list\n",
    "        alphas.append(alpha_value)\n",
    "\n",
    "        #Calculate new (x2, y2) coordinates based on 'a' and 'alpha_value'\n",
    "        x_2 = x_1 + a * np.cos(alpha_value)\n",
    "        y_2 = y_1 + a * np.sin(alpha_value)\n",
    "\n",
    "        #Append the new point to the 'points_2' list\n",
    "        points_2.append((x_2, y_2))"
   ]
  },
  {
   "cell_type": "markdown",
   "id": "6fa46e71",
   "metadata": {
    "id": "6fa46e71"
   },
   "source": [
    "### Region I"
   ]
  },
  {
   "cell_type": "markdown",
   "id": "4b4af4c8",
   "metadata": {
    "id": "4b4af4c8"
   },
   "source": [
    "#### Inf 1\n",
    "\n",
    "$x \\in [0, \\frac{a}{2}]$\n",
    "\n",
    "$y \\in [a - \\sqrt{a^2 - (x-a)^2}, a]$\n",
    "\n",
    "$\\theta \\in [\\arctan{\\left(\\frac{a - y}{a - x}\\right)}, \\frac{\\pi}{2} + \\arctan{\\left(\\frac{x}{a - y}\\right)}]$"
   ]
  },
  {
   "cell_type": "code",
   "execution_count": null,
   "id": "sRztzAuq8Pbx",
   "metadata": {
    "id": "sRztzAuq8Pbx"
   },
   "outputs": [],
   "source": [
    "def is_point_inside_region_1_inferior_1(x, y, theta, a):\n",
    "    # Check if the point (x, y) is within the specified region\n",
    "    if x >= 0 and x <= a/2:\n",
    "        # Calculate the lower limit of y based on the equation of a circle\n",
    "        lower_limit_y = a - math.sqrt(a**2 - (x - a)**2)\n",
    "\n",
    "        # Check if y is within the defined range\n",
    "        if y >= lower_limit_y and y <= a:\n",
    "            # Calculate two angles, atan_1 and atan_2\n",
    "            atan_1 = math.atan((a - y) / (a - x))\n",
    "            atan_2 = math.pi/2 + math.atan(x / (a - y))\n",
    "\n",
    "            # Check if the given theta is within the angle range\n",
    "            # defined by atan_1 and atan_2\n",
    "            if theta >= atan_1 and theta <= atan_2:\n",
    "                # If all conditions are met, return True,\n",
    "                # indicating that the point is inside the region\n",
    "                return True\n",
    "\n",
    "    # If any condition is not met, return False,\n",
    "    # indicating that the point is outside the region\n",
    "    return False"
   ]
  },
  {
   "cell_type": "markdown",
   "id": "27417213",
   "metadata": {
    "id": "27417213"
   },
   "source": [
    "#### Inf 2\n",
    "\n",
    "$x \\in [\\frac{a}{2}, a]$\n",
    "\n",
    "$y \\in [a - \\sqrt{a^2 - x^2}, a]$\n",
    "\n",
    "$\\theta \\in [\\arctan{\\left(\\frac{a - y}{a - x}\\right)}, \\frac{\\pi}{2} + \\arctan{\\left(\\frac{x}{a - y}\\right)}]$\n"
   ]
  },
  {
   "cell_type": "code",
   "execution_count": null,
   "id": "vmdNqc4z_4Dn",
   "metadata": {
    "id": "vmdNqc4z_4Dn"
   },
   "outputs": [],
   "source": [
    "def is_point_inside_region_1_inferior_2(x, y, theta, a):\n",
    "    # Check if the given point (x, y) is inside a specific region defined \n",
    "    # by the parameters a and theta.\n",
    "\n",
    "    # Check if x is within the range [a/2, a]\n",
    "    if x >= a/2 and x <= a:\n",
    "        # Calculate the lower limit for y based on the circle equation\n",
    "        lower_limit_y = a - math.sqrt(a**2 - x**2)\n",
    "\n",
    "        # Check if y is within the range [lower_limit_y, a]\n",
    "        if y >= lower_limit_y and y <= a:\n",
    "            # Calculate the angle atan_1, representing the lower angle limit\n",
    "            atan_1 = math.atan((a - y) / (a - x))\n",
    "\n",
    "            # Calculate the angle atan_2, representing the upper angle limit\n",
    "            atan_2 = math.pi/2 + math.atan(x / (a - y))\n",
    "\n",
    "            # Check if the input angle theta is within the range [atan_1, atan_2]\n",
    "            if theta >= atan_1 and theta <= atan_2:\n",
    "                return True  # The point is inside the specified region\n",
    "\n",
    "    return False  # The point is outside the specified region\n"
   ]
  },
  {
   "cell_type": "markdown",
   "id": "2e453c8c",
   "metadata": {
    "id": "2e453c8c"
   },
   "source": [
    "#### Sup 1\n",
    "\n",
    "$x \\in [0, \\frac{a}{2}]$\n",
    "\n",
    "$y \\in [a, a + \\sqrt{a^2 - (x-a)^2}]$\n",
    "\n",
    "$\\theta \\in \\left[\\pi + \\arctan\\left(\\frac{y - a}{x}\\right), \\frac{3\\pi}{2} + \\arctan\\left(\\frac{a - x}{y - a}\\right)\\right]$\n"
   ]
  },
  {
   "cell_type": "code",
   "execution_count": null,
   "id": "A-xU4-nHAHEl",
   "metadata": {
    "id": "A-xU4-nHAHEl"
   },
   "outputs": [],
   "source": [
    "def is_point_inside_region_1_superior_1(x, y, theta, a):\n",
    "    # Check if the given point (x, y) is inside a specific region defined by the parameters a and theta.\n",
    "\n",
    "    # Check if x is within the range [0, a/2]\n",
    "    if x >= 0 and x <= a/2:\n",
    "        # Calculate the lower and upper limits for y based on the circular arc equation\n",
    "        lower_limit_y = a\n",
    "        upper_limit_y = a + math.sqrt(a**2 - (x - a)**2)\n",
    "\n",
    "        # Check if y is within the range [lower_limit_y, upper_limit_y]\n",
    "        if y >= lower_limit_y and y <= upper_limit_y:\n",
    "            # Calculate the angle atan_1, representing the lower angle limit\n",
    "            atan_1 = math.pi + math.atan((y - a) / x)\n",
    "\n",
    "            # Calculate the angle atan_2, representing the upper angle limit\n",
    "            atan_2 = 3*math.pi/2 + math.atan((a - x) / (y - a))\n",
    "\n",
    "            # Check if the input angle theta is within the range [atan_1, atan_2]\n",
    "            if theta >= atan_1 and theta <= atan_2:\n",
    "                return True  # The point is inside the specified region\n",
    "\n",
    "    return False  # The point is outside the specified region"
   ]
  },
  {
   "cell_type": "markdown",
   "id": "dc55ecb1",
   "metadata": {
    "id": "dc55ecb1"
   },
   "source": [
    "#### Sup 2\n",
    "\n",
    "$x \\in [\\frac{a}{2}, a]$\n",
    "\n",
    "$y \\in [a, a + \\sqrt{a^2 - x^2}]$\n",
    "\n",
    "$\\theta \\in \\left[\\pi + \\arctan\\left(\\frac{y - a}{x}\\right), \\frac{3\\pi}{2} + \\arctan\\left(\\frac{a - x}{y - a}\\right)\\right]$"
   ]
  },
  {
   "cell_type": "code",
   "execution_count": null,
   "id": "195aa5fa",
   "metadata": {
    "id": "195aa5fa"
   },
   "outputs": [],
   "source": [
    "def is_point_inside_region_1_superior_2(x, y, theta, a):\n",
    "    if x >= a/2 and x <= a:\n",
    "        lower_limit_y = a\n",
    "        upper_limit_y = a + math.sqrt(a**2 - x**2)\n",
    "\n",
    "        if y >= lower_limit_y and y <= upper_limit_y:\n",
    "            atan_1 = math.pi + math.atan((y-a) / x )\n",
    "            atan_2 = 3*math.pi/2 + math.atan((a-x) / (y - a))\n",
    "\n",
    "            if theta >= atan_1 and theta <= atan_2:\n",
    "                return True\n",
    "\n",
    "    return False\n"
   ]
  },
  {
   "cell_type": "markdown",
   "id": "4b71e741",
   "metadata": {
    "id": "4b71e741"
   },
   "source": [
    "### Defining a function that calls all the functions related to the sections of this region."
   ]
  },
  {
   "cell_type": "code",
   "execution_count": null,
   "id": "62ceda0e",
   "metadata": {
    "id": "62ceda0e"
   },
   "outputs": [],
   "source": [
    "def is_point_inside_region_1(x, y, theta, a):\n",
    "    # Check if the point (x, y) is inside any of the four subregions of region 1\n",
    "    region_1_inferior_1 = is_point_inside_region_1_inferior_1(x, y, theta, a)\n",
    "    region_1_inferior_2 = is_point_inside_region_1_inferior_2(x, y, theta, a)\n",
    "    region_1_superior_1 = is_point_inside_region_1_superior_1(x, y, theta, a)\n",
    "    region_1_superior_2 = is_point_inside_region_1_superior_2(x, y, theta, a)\n",
    "\n",
    "    # Return True if the point is inside any of the four subregions, otherwise, return False\n",
    "    return region_1_inferior_1 or region_1_inferior_2 or region_1_superior_1 or region_1_superior_2"
   ]
  },
  {
   "cell_type": "markdown",
   "id": "60fdd0fb",
   "metadata": {
    "id": "60fdd0fb"
   },
   "source": [
    "### Region II"
   ]
  },
  {
   "cell_type": "markdown",
   "id": "a04f6307",
   "metadata": {
    "id": "a04f6307"
   },
   "source": [
    "#### Inf 1\n",
    "\n",
    "$x \\in [0, \\frac{a}{2}]$\n",
    "\n",
    "$y \\in [a - \\sqrt{a^2 - x^2}, a - \\sqrt{a^2 - (x - a)^2}]$\n",
    "\n",
    "$\\theta \\in [\\arcsin{\\left(\\frac{a - y}{a}\\right)}, \\frac{\\pi}{2} + \\arctan{\\left(\\frac{x}{a - y}\\right)}]$\n",
    "\n"
   ]
  },
  {
   "cell_type": "code",
   "execution_count": null,
   "id": "17bff626",
   "metadata": {
    "id": "17bff626"
   },
   "outputs": [],
   "source": [
    "def is_point_inside_region_2_inferior_1(x, y, theta, a):\n",
    "    if x >= 0 and x <= a/2:\n",
    "        square_root_1 = a - math.sqrt(a**2 - x**2)\n",
    "        square_root_2 = a - math.sqrt(a**2 - (x - a)**2)\n",
    "\n",
    "        if y >= square_root_1 and y <= square_root_2:\n",
    "            atan_1 = math.asin((a - y) / a)\n",
    "            atan_2 = math.pi/2 + math.atan(x / (a - y))\n",
    "\n",
    "            if theta >= atan_1 and theta <= atan_2:\n",
    "                return True\n",
    "\n",
    "    return False"
   ]
  },
  {
   "cell_type": "markdown",
   "id": "656a189b",
   "metadata": {
    "id": "656a189b"
   },
   "source": [
    "#### inf 2\n",
    "$x \\in [\\frac{a}{2}, a]$\n",
    "\n",
    "$y \\in [a - \\sqrt{a^2 - (x - a)^2}, a - \\sqrt{a^2 - x^2}]$\n",
    "\n",
    "$\\theta \\in [\\arctan{\\left(\\frac{a - y}{a - x}\\right)}, \\frac{\\pi}{2} + \\arccos{\\left(\\frac{a - y}{a}\\right)}]$\n"
   ]
  },
  {
   "cell_type": "code",
   "execution_count": null,
   "id": "cfbb6356",
   "metadata": {
    "id": "cfbb6356"
   },
   "outputs": [],
   "source": [
    "def is_point_inside_region_2_inferior_2(x, y, theta, a):\n",
    "    if x >= a/2 and x <= a:\n",
    "        square_root_1 = a - math.sqrt(a**2 - (x - a)**2)\n",
    "        square_root_2 = a - math.sqrt(a**2 - x**2)\n",
    "\n",
    "        if y >= square_root_1 and y <= square_root_2:\n",
    "            atan_1 = math.atan((a - y) / (a - x))\n",
    "            atan_2 = math.pi/2 + math.acos((a - y) / a)\n",
    "\n",
    "            if theta >= atan_1 and theta <= atan_2:\n",
    "                return True\n",
    "\n",
    "    return False"
   ]
  },
  {
   "cell_type": "markdown",
   "id": "a5a9b32d",
   "metadata": {
    "id": "a5a9b32d"
   },
   "source": [
    "#### sup 1\n",
    "$x \\in [0, \\frac{a}{2}]$\n",
    "\n",
    "$y \\in [a + \\sqrt{a^2 - (x - a)^2}, a + \\sqrt{a^2 - x^2}]$\n",
    "\n",
    "$\\theta \\in [\\pi + \\arctan{\\left(\\frac{a - y}{x}\\right)}, \\frac{3\\pi}{2} + \\arccos{\\left(\\frac{y - a}{a}\\right)}]$"
   ]
  },
  {
   "cell_type": "code",
   "execution_count": null,
   "id": "be610de4",
   "metadata": {
    "id": "be610de4"
   },
   "outputs": [],
   "source": [
    "def is_point_inside_region_2_superior_1(x, y, theta, a):\n",
    "    if x >= 0 and x <= a/2:\n",
    "        lower_limit_y = a + math.sqrt(a**2 - (x - a)**2)\n",
    "        upper_limit_y = a + math.sqrt(a**2 - x**2)\n",
    "\n",
    "        if y >= lower_limit_y and y <= upper_limit_y:\n",
    "            atan_1 = math.pi + math.atan((y - a) / x)\n",
    "            atan_2 = 3*math.pi/2 + math.acos((y - a) / a)\n",
    "\n",
    "            if theta >= atan_1 and theta <= atan_2:\n",
    "                return True\n",
    "\n",
    "    return False"
   ]
  },
  {
   "cell_type": "markdown",
   "id": "d359fff0",
   "metadata": {
    "id": "d359fff0"
   },
   "source": [
    "#### sup 2\n",
    "$x \\in \\left[\\frac{a}{2}, a\\right]$\n",
    "\n",
    "$y \\in \\left[a + \\sqrt{a^2 - x^2}, a + \\sqrt{a^2 - (x - a)^2}\\right]$\n",
    "\n",
    "$\\theta \\in [\\pi + \\arcsin{\\left(\\frac{y - a}{a}\\right)}, \\frac{3\\pi}{2} + \\arctan{\\left(\\frac{a - x}{y - a}\\right)}]$"
   ]
  },
  {
   "cell_type": "code",
   "execution_count": null,
   "id": "d8dbc48f",
   "metadata": {
    "id": "d8dbc48f"
   },
   "outputs": [],
   "source": [
    "def is_point_inside_region_2_superior_2(x, y, theta, a):\n",
    "    if x >= a/2 and x <= a:\n",
    "        lower_limit_y = a + math.sqrt(a**2 - x**2)\n",
    "        upper_limit_y = a + math.sqrt(a**2 - (x - a)**2)\n",
    "\n",
    "        if y >= lower_limit_y and y <= upper_limit_y:\n",
    "            atan_1 = math.pi + math.asin((y - a) / a)\n",
    "            atan_2 = 3*math.pi/2 + math.atan((a - x) / (y - a)) #Check it again\n",
    "\n",
    "            if theta >= atan_1 and theta <= atan_2:\n",
    "                return True\n",
    "\n",
    "    return False"
   ]
  },
  {
   "cell_type": "markdown",
   "id": "094bbbea",
   "metadata": {
    "id": "094bbbea"
   },
   "source": [
    "### Defining a function that calls all the functions related to the sections of this region."
   ]
  },
  {
   "cell_type": "code",
   "execution_count": null,
   "id": "85563fd9",
   "metadata": {
    "id": "85563fd9"
   },
   "outputs": [],
   "source": [
    "def is_point_inside_region_2(x, y, theta, a):\n",
    "    region_2_inferior_1 = is_point_inside_region_2_inferior_1(x, y, theta, a)\n",
    "    region_2_inferior_2 = is_point_inside_region_2_inferior_2(x, y, theta, a)\n",
    "    region_2_superior_1 = is_point_inside_region_2_superior_1(x, y, theta, a)\n",
    "    region_2_superior_2 = is_point_inside_region_2_superior_2(x, y, theta, a)\n",
    "\n",
    "    return region_2_inferior_1 or region_2_inferior_2 or region_2_superior_1 or region_2_superior_2"
   ]
  },
  {
   "cell_type": "code",
   "execution_count": null,
   "id": "2Xm0FjupJ6HI",
   "metadata": {
    "id": "2Xm0FjupJ6HI"
   },
   "outputs": [],
   "source": [
    "def is_point_inside_region_2(x, y, theta, a):\n",
    "    # Check if the point (x, y) is inside any of the four subregions of region 2\n",
    "    region_2_inferior_1 = is_point_inside_region_2_inferior_1(x, y, theta, a)\n",
    "    region_2_inferior_2 = is_point_inside_region_2_inferior_2(x, y, theta, a)\n",
    "    region_2_superior_1 = is_point_inside_region_2_superior_1(x, y, theta, a)\n",
    "    region_2_superior_2 = is_point_inside_region_2_superior_2(x, y, theta, a)\n",
    "\n",
    "    # Return True if the point is inside any of the four subregions, otherwise, return False\n",
    "    return region_2_inferior_1 or region_2_inferior_2 or region_2_superior_1 or region_2_superior_2\n"
   ]
  },
  {
   "cell_type": "markdown",
   "id": "fcf1d26b",
   "metadata": {
    "id": "fcf1d26b"
   },
   "source": [
    "### Region III"
   ]
  },
  {
   "cell_type": "markdown",
   "id": "6fa4664b",
   "metadata": {
    "id": "6fa4664b"
   },
   "source": [
    "Inf 1\n",
    "\n",
    "$x \\in [0, \\frac{a}{2}]$\n",
    "\n",
    "$y \\in [0, a - \\sqrt{a^2 - x^2}]$\n",
    "\n",
    "$\\theta \\in [\\arcsin{\\left(\\frac{a - y}{a}\\right)}, \\frac{\\pi}{2} + \\arccos{\\left(\\frac{a - y}{a}\\right)}]$\n"
   ]
  },
  {
   "cell_type": "code",
   "execution_count": null,
   "id": "ad9f071a",
   "metadata": {
    "id": "ad9f071a"
   },
   "outputs": [],
   "source": [
    "def is_point_inside_region_3_inferior_1(x, y, theta, a):\n",
    "    if x >= 0 and x <= a/2:\n",
    "        upper_limit_y = a - math.sqrt(a**2 - x**2)\n",
    "\n",
    "        if y >= 0 and y <= upper_limit_y:\n",
    "            atan_1 = math.asin((a - y) / a)\n",
    "            atan_2 = math.pi/2 + math.acos((a - y) / a)\n",
    "\n",
    "            if theta >= atan_1 and theta <= atan_2:\n",
    "                return True\n",
    "\n",
    "    return False"
   ]
  },
  {
   "cell_type": "markdown",
   "id": "aa6bb5f5",
   "metadata": {
    "id": "aa6bb5f5"
   },
   "source": [
    "Inf 2\n",
    "\n",
    "$x \\in [\\frac{a}{2}, a]$\n",
    "\n",
    "$y \\in [0, a - \\sqrt{a^2 - (x - a)^2}]$\n",
    "\n",
    "$\\theta \\in [\\arcsin{\\left(\\frac{a - y}{a}\\right)}, \\frac{\\pi}{2} + \\arccos{\\left(\\frac{a - y}{a}\\right)}]$\n"
   ]
  },
  {
   "cell_type": "code",
   "execution_count": null,
   "id": "fd5a6163",
   "metadata": {
    "id": "fd5a6163"
   },
   "outputs": [],
   "source": [
    "def is_point_inside_region_3_inferior_2(x, y, theta, a):\n",
    "    if x >= a/2 and x <= a:\n",
    "        upper_limit_y = a - math.sqrt(a**2 - (x - a)**2)\n",
    "\n",
    "        if y >= 0 and y <= upper_limit_y:\n",
    "            atan_1 = math.asin((a - y) / a)\n",
    "            atan_2 = math.pi/2 + math.acos((a - y) / a)\n",
    "\n",
    "            if theta >= atan_1 and theta <= atan_2:\n",
    "                return True\n",
    "\n",
    "    return False"
   ]
  },
  {
   "cell_type": "markdown",
   "id": "1afc8376",
   "metadata": {
    "id": "1afc8376"
   },
   "source": [
    "#### Sup 1\n",
    "\n",
    "$x \\in [0, \\frac{a}{2}]$\n",
    "\n",
    "$y \\in [a, a + \\sqrt{a^2 - (x-a)^2}]$\n",
    "\n",
    "$\\theta \\in [\\pi + \\arcsin{\\left(\\frac{y - a}{a}\\right)}, \\frac{3\\pi}{2} + \\arccos{\\left(\\frac{y - a}{a}\\right)}]$"
   ]
  },
  {
   "cell_type": "code",
   "execution_count": null,
   "id": "22c9154e",
   "metadata": {
    "id": "22c9154e"
   },
   "outputs": [],
   "source": [
    "def is_point_inside_region_3_superior_1(x, y, theta, a):\n",
    "    if x >= 0 and x <= a/2:\n",
    "        lower_limit_y = a + math.sqrt(a**2 - x**2)\n",
    "        upper_limit_y = 2*a\n",
    "\n",
    "        if y >= lower_limit_y and y <= upper_limit_y:\n",
    "            atan_1 = math.pi + math.asin((y - a) / a)\n",
    "            atan_2 = 3*math.pi/2 + math.acos((y - a) / a)\n",
    "\n",
    "            if theta >= atan_1 and theta <= atan_2:\n",
    "                return True\n",
    "\n",
    "    return False"
   ]
  },
  {
   "cell_type": "markdown",
   "id": "49c84c61",
   "metadata": {
    "id": "49c84c61"
   },
   "source": [
    "#### Sup 2\n",
    "\n",
    "$x \\in [a, \\frac{a}{2}]$\n",
    "\n",
    "$y \\in [a, a + \\sqrt{a^2 - x^2}]$\n",
    "\n",
    "$\\theta \\in [\\pi + \\arcsin{\\left(\\frac{y - a}{a}\\right)}, \\frac{3\\pi}{2} + \\arccos{\\left(\\frac{y - a}{a}\\right)}]$"
   ]
  },
  {
   "cell_type": "code",
   "execution_count": null,
   "id": "2922dcf6",
   "metadata": {
    "id": "2922dcf6"
   },
   "outputs": [],
   "source": [
    "def is_point_inside_region_3_superior_2(x, y, theta, a):\n",
    "    if x >= a/2 and x <= a:\n",
    "        lower_limit_y = a + math.sqrt(a**2 - (x-a)**2)\n",
    "        upper_limit_y = 2*a\n",
    "\n",
    "        if y >= lower_limit_y and y <= upper_limit_y:\n",
    "            atan_1 = math.pi + math.asin((y - a) / a)\n",
    "            atan_2 = 3*math.pi/2 + math.acos((y - a) / a)\n",
    "\n",
    "            if theta >= atan_1 and theta <= atan_2:\n",
    "                #print(\"R3Sup2\")\n",
    "                return True\n",
    "\n",
    "    return False"
   ]
  },
  {
   "cell_type": "markdown",
   "id": "ae7139ae",
   "metadata": {
    "id": "ae7139ae"
   },
   "source": [
    "### Defining a function that calls all the functions related to the sections of this region."
   ]
  },
  {
   "cell_type": "code",
   "execution_count": null,
   "id": "ec808a0c",
   "metadata": {
    "id": "ec808a0c"
   },
   "outputs": [],
   "source": [
    "def is_point_inside_region_3(x, y, theta, a):\n",
    "    region_3_inferior_1 = is_point_inside_region_3_inferior_1(x, y, theta, a)\n",
    "    region_3_inferior_2 = is_point_inside_region_3_inferior_2(x, y, theta, a)\n",
    "    region_3_superior_1 = is_point_inside_region_3_superior_1(x, y, theta, a)\n",
    "    region_3_superior_2 = is_point_inside_region_3_superior_2(x, y, theta, a)\n",
    "\n",
    "    return region_3_inferior_1 or region_3_inferior_2 or region_3_superior_1 or region_3_superior_2"
   ]
  },
  {
   "cell_type": "markdown",
   "id": "d6821e19",
   "metadata": {
    "id": "d6821e19"
   },
   "source": [
    "### Region IV"
   ]
  },
  {
   "cell_type": "markdown",
   "id": "f6ec4c3a",
   "metadata": {
    "id": "f6ec4c3a"
   },
   "source": [
    "#### Inf 1\n",
    "\n",
    "$x \\in [-a, 0]$\n",
    "\n",
    "$y \\in [a - \\sqrt{a^2 - x^2}, a]$\n",
    "\n",
    "$\\theta \\in \\left[ \\arcsin{\\left(\\frac{a - y}{a}\\right)}, \\arctan{\\left(\\frac{a - y}{0 - x}\\right)} \\right]$"
   ]
  },
  {
   "cell_type": "code",
   "execution_count": null,
   "id": "74fcdc61",
   "metadata": {
    "id": "74fcdc61"
   },
   "outputs": [],
   "source": [
    "def is_point_inside_region_4_inferior_1(x, y, theta, a):\n",
    "    if x >= -a and x <= 0:\n",
    "        lower_limit_y = a - math.sqrt(a**2 - x**2)\n",
    "        upper_limit_y = a\n",
    "\n",
    "        if y >= lower_limit_y and y <= upper_limit_y:\n",
    "            atan_1 = math.asin((a - y) / a)\n",
    "            atan_2 = math.atan((a - y) / (0-x))\n",
    "\n",
    "            if theta >= atan_1 and theta <= atan_2:\n",
    "                return True\n",
    "\n",
    "    return False\n"
   ]
  },
  {
   "cell_type": "markdown",
   "id": "dc5886a1",
   "metadata": {
    "id": "dc5886a1"
   },
   "source": [
    "#### Inf 2\n",
    "\n",
    "$x \\in [a, 2a]$\n",
    "\n",
    "$y \\in [a - \\sqrt{a^2 - (x - a)^2}, a]$\n",
    "\n",
    "$\\theta \\in \\left[\\pi - \\arctan{\\left(\\frac{a - y}{x - a}\\right)}, \\pi - \\arcsin{\\left(\\frac{a - y}{a}\\right)} \\right]$"
   ]
  },
  {
   "cell_type": "code",
   "execution_count": null,
   "id": "8027b140",
   "metadata": {
    "id": "8027b140"
   },
   "outputs": [],
   "source": [
    "def is_point_inside_region_4_inferior_2(x, y, theta, a):\n",
    "    if x >= a and x <= 2*a:\n",
    "        lower_limit_y = a - math.sqrt(a**2 - (x - a)**2)\n",
    "        upper_limit_y = a\n",
    "\n",
    "        if y >= lower_limit_y and y <= upper_limit_y:\n",
    "            atan_1 = math.pi - math.atan((a - y) / (x - a))\n",
    "            atan_2 = math.pi - math.asin((a - y) / a)\n",
    "\n",
    "            if theta >= atan_1 and theta <= atan_2:\n",
    "                return True\n",
    "\n",
    "    return False\n"
   ]
  },
  {
   "cell_type": "markdown",
   "id": "f8109e85",
   "metadata": {
    "id": "f8109e85"
   },
   "source": [
    "#### Sup 1\n",
    "\n",
    "$x \\in [-a, 0]$\n",
    "\n",
    "$y \\in [a, a + \\sqrt{a^2 - x^2}]$\n",
    "\n",
    "$\\theta \\in [\\frac{3\\pi}{2} + \\arctan{\\left(\\frac{0 - x}{y - a}\\right)}, \\frac{3\\pi}{2} + \\arccos{\\left(\\frac{y - a}{a}\\right)}]$"
   ]
  },
  {
   "cell_type": "code",
   "execution_count": null,
   "id": "df76a9c0",
   "metadata": {
    "id": "df76a9c0"
   },
   "outputs": [],
   "source": [
    "def is_point_inside_region_4_superior_1(x, y, theta, a):\n",
    "    if x >= -a and x <= 0:\n",
    "        lower_limit_y = a\n",
    "        upper_limit_y = a + math.sqrt(a**2 - x**2)\n",
    "\n",
    "        if y >= lower_limit_y and y <= upper_limit_y:\n",
    "            atan_1 = 3*math.pi/2 + math.atan((0-x) / (y - a))\n",
    "            atan_2 = 3*math.pi/2 + math.acos((y - a) / a)\n",
    "\n",
    "            if theta >= atan_1 and theta <= atan_2:\n",
    "                return True\n",
    "\n",
    "    return False"
   ]
  },
  {
   "cell_type": "markdown",
   "id": "aebce75b",
   "metadata": {
    "id": "aebce75b"
   },
   "source": [
    "#### Sup 2\n",
    "\n",
    "$x \\in [a, 2a]$\n",
    "\n",
    "$y \\in [a, a + \\sqrt{a^2 - (x - a)^2}]$\n",
    "\n",
    "$\\theta \\in [\\frac{3\\pi}{2} - \\arccos{\\left(\\frac{y - a}{a}\\right)}, \\frac{3\\pi}{2} - \\arctan{\\left(\\frac{x - a}{y - a}\\right)}]$\n"
   ]
  },
  {
   "cell_type": "code",
   "execution_count": null,
   "id": "cb946eb3",
   "metadata": {
    "id": "cb946eb3"
   },
   "outputs": [],
   "source": [
    "def is_point_inside_region_4_superior_2(x, y, theta, a):\n",
    "    if x >= a and x <= 2*a:\n",
    "        lower_limit_y = a\n",
    "        upper_limit_y = a + math.sqrt(a**2 - (x - a)**2)\n",
    "\n",
    "        if y >= lower_limit_y and y <= upper_limit_y:\n",
    "            atan_1 = 3*math.pi/2 - math.acos((y - a) / a)\n",
    "            atan_2 = 3*math.pi/2 - math.atan((x - a) / (y - a))\n",
    "\n",
    "            if theta >= atan_1 and theta <= atan_2:\n",
    "                return True\n",
    "\n",
    "    return False"
   ]
  },
  {
   "cell_type": "markdown",
   "id": "879ecd90",
   "metadata": {
    "id": "879ecd90"
   },
   "source": [
    "### Defining a function that calls all the functions related to the sections of this region."
   ]
  },
  {
   "cell_type": "code",
   "execution_count": null,
   "id": "f5c642ea",
   "metadata": {
    "id": "f5c642ea"
   },
   "outputs": [],
   "source": [
    "def is_point_inside_region_4(x, y, theta, a):\n",
    "    region_4_inferior_1 = is_point_inside_region_4_inferior_1(x, y, theta, a)\n",
    "    region_4_inferior_2 = is_point_inside_region_4_inferior_2(x, y, theta, a)\n",
    "    region_4_superior_1 = is_point_inside_region_4_superior_1(x, y, theta, a)\n",
    "    region_4_superior_2 = is_point_inside_region_4_superior_2(x, y, theta, a)\n",
    "\n",
    "    return region_4_inferior_1 or region_4_inferior_2 or region_4_superior_1 or region_4_superior_2"
   ]
  },
  {
   "cell_type": "markdown",
   "id": "37e9beba",
   "metadata": {
    "id": "37e9beba"
   },
   "source": [
    "### Rotating the X_Y axis"
   ]
  },
  {
   "cell_type": "code",
   "execution_count": null,
   "id": "c8818f6d",
   "metadata": {
    "id": "c8818f6d"
   },
   "outputs": [],
   "source": [
    "def rotate_the_xy_axis(x2i, x1i, y2i, y1i, theta1, theta2):\n",
    "   # Shift: Reference Point 1 to origin\n",
    "    xs = x2i - x1i\n",
    "    ys = y2i - y1i\n",
    "    # Rotation by -theta1 to bring the reference line 1 to the x-axis\n",
    "    theta = theta2 - theta1\n",
    "    # New coordinates\n",
    "    x = xs*math.cos(-theta1) - ys*math.sin(-theta1)\n",
    "    y = xs*math.sin(-theta1) + ys*math.cos(-theta1)\n",
    "    # Final shift\n",
    "    y = y + a\n",
    "\n",
    "    return x, y, theta"
   ]
  },
  {
   "cell_type": "code",
   "execution_count": null,
   "id": "b296f037",
   "metadata": {
    "id": "b296f037"
   },
   "outputs": [],
   "source": [
    "def back_to_the_origial_coordinate_system(x, x1i, y, y1i, theta1, theta):\n",
    "    # Final shift\n",
    "    y = y - a\n",
    "    # New coordinates\n",
    "    xs = x*math.cos(theta1) - y*math.sin(theta1)\n",
    "    ys = x*math.sin(theta1) + y*math.cos(theta1)\n",
    "\n",
    "    x2i = xs + x1i\n",
    "    y2i = ys + y1i\n",
    "\n",
    "    theta2 = theta + theta1\n",
    "\n",
    "    return x2i, y2i, theta2"
   ]
  },
  {
   "cell_type": "markdown",
   "id": "1cd35070",
   "metadata": {
    "id": "1cd35070"
   },
   "source": [
    "### The equations that determines the point of intersection between the two lines is:"
   ]
  },
  {
   "cell_type": "markdown",
   "id": "b65373b0",
   "metadata": {
    "id": "b65373b0"
   },
   "source": [
    "$$\n",
    "% x = x2_0 + \\frac{{a - (\\tan(\\phi2_0) \\cdot x2_0)}}{{\\tan(\\phi2_0)}} \\\\\n",
    "x = x2_0 + \\frac{{a - (y_0)}}{{\\tan(\\phi2_0)}} \\\\\n",
    "y = y2_0 + \\tan(\\phi2_0) \\cdot (x - x2_0)\n",
    "$$"
   ]
  },
  {
   "cell_type": "code",
   "execution_count": null,
   "id": "cb5d67c9",
   "metadata": {
    "id": "cb5d67c9"
   },
   "outputs": [],
   "source": [
    "def find_intersection_point(x2, y2, a, angle):\n",
    "    try:\n",
    "        x = x2 + ((a - y2) / math.tan(angle))\n",
    "        y = y2 + math.tan(angle)*(x - x2)\n",
    "        return x, y\n",
    "    except ZeroDivisionError:\n",
    "        print(\"Error: Tan(phi) cannot be zero.\")\n",
    "        return None"
   ]
  },
  {
   "cell_type": "code",
   "execution_count": null,
   "id": "lOIbhmlSL-yI",
   "metadata": {
    "id": "lOIbhmlSL-yI"
   },
   "outputs": [],
   "source": [
    "import math\n",
    "\n",
    "def find_intersection_point(x2, y2, a, angle):\n",
    "    try:\n",
    "        # Calculate the x-coordinate of the intersection using trigonometry\n",
    "        x = x2 + ((a - y2) / math.tan(angle))\n",
    "\n",
    "        # Calculate the y-coordinate of the intersection using trigonometry\n",
    "        y = y2 + math.tan(angle)*(x - x2)\n",
    "\n",
    "        # Return the coordinates of the intersection point\n",
    "        return x, y\n",
    "    except ZeroDivisionError:\n",
    "        # Handle the case where the tangent of the angle is zero,\n",
    "        # which would cause a division by zero error\n",
    "        print(\"Error: Tan(phi) cannot be zero.\")\n",
    "\n",
    "        # Return None to indicate an error condition\n",
    "        return None\n"
   ]
  },
  {
   "cell_type": "code",
   "execution_count": null,
   "id": "8a59f63f",
   "metadata": {
    "id": "8a59f63f"
   },
   "outputs": [],
   "source": [
    "def identify_intersections(points_1, points_2, angles, a, N):\n",
    "    for i in range(N):\n",
    "        x1i, y1i = points_1[i]\n",
    "        x1f, y1f = points_2[i]\n",
    "        theta1 = angles[i]\n",
    "        for j in range(N):\n",
    "          if (j != i):\n",
    "            x2i, y2i = points_1[j]\n",
    "            x2f, y2f = points_2[j]\n",
    "            theta2 = angles[j]\n",
    "\n",
    "            #print(f'Value of x2f, y2f, theta2: {x2i, y2i, theta2}')\n",
    "            #print(f'Value of x2i, y2i, theta2: {x2i, y2i, theta2}')\n",
    "\n",
    "            x, y, theta = rotate_the_xy_axis(x2i, x1i, y2i, y1i, theta1, theta2)\n",
    "            x_old, y_old, theta_2 = back_to_the_origial_coordinate_system(x, x1i, y, y1i, theta1, theta)\n",
    "\n",
    "            #print(f'Value of x, y, theta2 after: {x_old, y_old, theta}')\n",
    "            #print(f'Value of x, y, theta2 after: {x, y, theta}')\n",
    "\n",
    "            if is_point_inside_region_1(x, y, theta, a):\n",
    "                #print(\"There is an intersection point in region I\")\n",
    "                intersected_line_1.append((x1i, y1i))\n",
    "                intersected_line_2.append((x1f, y1f))\n",
    "                intersected_line_1.append((x2i, y2i))\n",
    "                intersected_line_2.append((x2f, y2f))\n",
    "\n",
    "                #x_new = find_intersection_point(x, y, a, theta_2)\n",
    "                x_new, y_new = find_intersection_point(x, y, a, theta)\n",
    "                x_old, y_old, theta_old = back_to_the_origial_coordinate_system(x_new, x1i, y_new, y1i, theta1, theta)\n",
    "                intersections_points.append((x_old, y_old))\n",
    "                edges.append((i, j))\n",
    "\n",
    "                #intersections_points.append(find_intersection_point_slope(x1i, y1f, theta1, x_old, y_old, theta))\n",
    "            if is_point_inside_region_2(x, y, theta, a):\n",
    "                #print(\"There is an intersection point in region II\")\n",
    "                intersected_line_1.append((x1i, y1i))\n",
    "                intersected_line_2.append((x1f, y1f))\n",
    "                intersected_line_1.append((x2i, y2i))\n",
    "                intersected_line_2.append((x2f, y2f))\n",
    "\n",
    "                x_new, y_new = find_intersection_point(x, y, a, theta)\n",
    "                x_old, y_old, theta_old = back_to_the_origial_coordinate_system(x_new, x1i, y_new, y1i, theta1, theta)\n",
    "                intersections_points.append((x_old, y_old))\n",
    "                edges.append((i, j))\n",
    "\n",
    "            if is_point_inside_region_3(x, y, theta, a):\n",
    "                #print(\"There is an intersection point in region III\")\n",
    "                intersected_line_1.append((x1i, y1i))\n",
    "                intersected_line_2.append((x1f, y1f))\n",
    "                intersected_line_1.append((x2i, y2i))\n",
    "                intersected_line_2.append((x2f, y2f))\n",
    "\n",
    "                x_new, y_new = find_intersection_point(x, y, a, theta)\n",
    "                x_old, y_old, theta_old = back_to_the_origial_coordinate_system(x_new, x1i, y_new, y1i, theta1, theta)\n",
    "                intersections_points.append((x_old, y_old))\n",
    "                edges.append((i, j))\n",
    "\n",
    "            if is_point_inside_region_4(x, y, theta, a):\n",
    "                #print(\"There is an intersection point in region IV\")\n",
    "                intersected_line_1.append((x1i, y1i))\n",
    "                intersected_line_2.append((x1f, y1f))\n",
    "                intersected_line_1.append((x2i, y2i))\n",
    "                intersected_line_2.append((x2f, y2f))\n",
    "\n",
    "                x_new, y_new = find_intersection_point(x, y, a, theta)\n",
    "                x_old, y_old, theta_old = back_to_the_origial_coordinate_system(x_new, x1i, y_new, y1i, theta1, theta)\n",
    "                intersections_points.append((x_old, y_old))\n",
    "                edges.append((i, j))\n",
    "\n",
    "            #else:\n",
    "                #print(\"There is no intersection!\")"
   ]
  },
  {
   "cell_type": "markdown",
   "id": "ed42445e",
   "metadata": {
    "id": "ed42445e"
   },
   "source": [
    "Function that search all nodes connected to the node passed to the function"
   ]
  },
  {
   "cell_type": "code",
   "execution_count": null,
   "id": "62488a15",
   "metadata": {
    "id": "62488a15"
   },
   "outputs": [],
   "source": [
    "def find_path(graph, start_node):\n",
    "    visited = set()\n",
    "    queue = deque([start_node])\n",
    "    path_nodes = [start_node]\n",
    "    path_lines = []\n",
    "    path_pairs = []\n",
    "    path_perc = 0\n",
    "\n",
    "    while queue:\n",
    "        current_node = queue.popleft()\n",
    "\n",
    "        if current_node not in visited:\n",
    "            visited.add(current_node)\n",
    "            target_edge = graph[current_node]\n",
    "\n",
    "            #Appending the target edge to path_lines if it's not already there\n",
    "            if target_edge not in path_lines:\n",
    "                path_lines.append(target_edge)\n",
    "\n",
    "            #Visiting each edge and appending the nodes\n",
    "            for i, edge in enumerate(graph):\n",
    "                if i != current_node and (target_edge[0] in edge or target_edge[1] in edge) and edge not in path_lines:\n",
    "                    if i not in path_nodes:\n",
    "                        queue.append(i)\n",
    "                        path_nodes.append(i)\n",
    "                        path_lines.append(edge)\n",
    "                        path_pairs.append((current_node,i))\n",
    "                        if intersections_points[i][0] > 0.9:\n",
    "                          path_perc = 1\n",
    "\n",
    "    return path_nodes, path_lines, path_pairs, path_perc"
   ]
  },
  {
   "cell_type": "markdown",
   "id": "e482013d",
   "metadata": {
    "id": "e482013d"
   },
   "source": [
    "Plotting all the lines"
   ]
  },
  {
   "cell_type": "code",
   "execution_count": null,
   "id": "726a0171",
   "metadata": {
    "id": "726a0171"
   },
   "outputs": [],
   "source": [
    "def plot_lines(N):\n",
    "    # Define custom colors\n",
    "    line_color = 'steelblue'\n",
    "    marker_color = 'steelblue'\n",
    "\n",
    "    # Define marker style for data points\n",
    "    marker_style = 'o'\n",
    "    marker_size = 8\n",
    "\n",
    "    # Set figure size\n",
    "    plt.figure(figsize=(8, 6))\n",
    "\n",
    "    for i in range(N):\n",
    "        # Plot lines between points\n",
    "        plt.plot([points_1[i][0], points_2[i][0]], [points_1[i][1], points_2[i][1]], linestyle='-', color=line_color)\n",
    "\n",
    "        # Plot data points without markers\n",
    "        #plt.scatter(points_1[i][0], points_1[i][1], marker=marker_style, s=marker_size, color=marker_color)\n",
    "        # plt.scatter(points_2[i][0], points_2[i][1], marker=marker_style, s=marker_size, color=marker_color)\n",
    "\n",
    "    # Customize grid\n",
    "    plt.grid(True, linestyle='dotted', linewidth=0.5, color='gray')\n",
    "\n",
    "    plt.savefig(f'N = {N}')\n",
    "\n",
    "    # Set labels and title\n",
    "    # plt.xlabel('X')\n",
    "    # plt.ylabel('Y')\n",
    "    plt.title(f'N = {N}', fontsize=22)\n",
    "\n",
    "    # Adjust plot limits\n",
    "    plt.xlim(0, 1)\n",
    "    plt.ylim(0, 1)\n",
    "\n",
    "    # Remove x and y axis values (ticks and labels)\n",
    "    plt.xticks([])\n",
    "    plt.yticks([])\n",
    "\n",
    "    plt.savefig(f'N = {N} - just the lines')\n",
    "\n",
    "    # Display the plot\n",
    "    plt.show()\n"
   ]
  },
  {
   "cell_type": "markdown",
   "id": "3f1e4836",
   "metadata": {
    "id": "3f1e4836"
   },
   "source": [
    "Plotting the lines where there is an intersection."
   ]
  },
  {
   "cell_type": "code",
   "execution_count": null,
   "id": "f9de0c8d",
   "metadata": {
    "id": "f9de0c8d"
   },
   "outputs": [],
   "source": [
    "def plot_lines_intersection(N):\n",
    "    # Define custom colors\n",
    "    line_color = 'steelblue'\n",
    "    marker_color = 'steelblue'\n",
    "    line_color_1 = 'red'\n",
    "    marker_color_1 = 'black'\n",
    "\n",
    "    # Define marker style for data points\n",
    "    marker_style = 'o'\n",
    "    marker_size = 6\n",
    "\n",
    "    # Set figure size\n",
    "    plt.figure(figsize=(8, 6))\n",
    "\n",
    "    for i in range(len(intersected_line_1)):\n",
    "        # Plot lines between points\n",
    "        plt.plot([intersected_line_1[i][0], intersected_line_2[i][0]], [intersected_line_1[i][1], intersected_line_2[i][1]], linestyle='-', color=line_color_1, zorder=1)\n",
    "\n",
    "    # Plot intersection points\n",
    "    # Unzip the intersections_points array to separate x and y values\n",
    "    x_values, y_values = zip(*intersections_points)\n",
    "\n",
    "    # Create a scatter plot for the points with higher zorder\n",
    "    plt.scatter(x_values, y_values, c='black', marker='o', label='Intersection Points', s=marker_size, zorder=2)\n",
    "\n",
    "    for i in range(N):\n",
    "        # Plot lines between points\n",
    "        plt.plot([points_1[i][0], points_2[i][0]], [points_1[i][1], points_2[i][1]], linestyle='-', color=line_color, zorder=0)\n",
    "\n",
    "    # Set labels and title\n",
    "    # plt.xlabel('X')\n",
    "    # plt.ylabel('Y')\n",
    "    plt.title(f'N = {N}', fontsize=22)\n",
    "\n",
    "    # Adjust plot limits\n",
    "    plt.xlim(0, 1)\n",
    "    plt.ylim(0, 1)\n",
    "\n",
    "    # Remove x and y axis values (ticks and labels)\n",
    "    plt.xticks([])\n",
    "    plt.yticks([])\n",
    "\n",
    "    plt.savefig(f'N = {N} with intersections')\n",
    "\n",
    "    # Display the plot\n",
    "    plt.show()"
   ]
  },
  {
   "cell_type": "markdown",
   "id": "dd9bb761",
   "metadata": {
    "id": "dd9bb761"
   },
   "source": [
    "Plotting all paths."
   ]
  },
  {
   "cell_type": "code",
   "execution_count": null,
   "id": "fb039ef8",
   "metadata": {
    "id": "fb039ef8"
   },
   "outputs": [],
   "source": [
    "def plot_only_paths(N):\n",
    "    # Define custom colors\n",
    "    line_color = 'steelblue'\n",
    "    marker_color = 'steelblue'\n",
    "    line_color_1 = 'red'\n",
    "    # line_color_2= ['green', 'red', 'blue', 'yellow', 'orange', 'black']\n",
    "    # marker_color = ['green', 'red', 'blue', 'yellow', 'orange', 'black']\n",
    "    marker_color_1 = 'black'\n",
    "\n",
    "    # prop_cycle = plt.rcParams['axes.prop_cycle']\n",
    "    # marker_color = prop_cycle.by_key()['color']\n",
    "\n",
    "\n",
    "    marker_color = [\n",
    "        \"#000000\", \"#FFFF00\", \"#1CE6FF\", \"#FF34FF\", \"#FF4A46\", \"#008941\", \"#006FA6\", \"#A30059\",\n",
    "        \"#FFDBE5\", \"#7A4900\", \"#0000A6\", \"#63FFAC\", \"#B79762\", \"#004D43\", \"#8FB0FF\", \"#997D87\",\n",
    "        \"#5A0007\", \"#809693\", \"#FEFFE6\", \"#1B4400\", \"#4FC601\", \"#3B5DFF\", \"#4A3B53\", \"#FF2F80\",\n",
    "        \"#61615A\", \"#BA0900\", \"#6B7900\", \"#00C2A0\", \"#FFAA92\", \"#FF90C9\", \"#B903AA\", \"#D16100\",\n",
    "        \"#DDEFFF\", \"#000035\", \"#7B4F4B\", \"#A1C299\", \"#300018\", \"#0AA6D8\", \"#013349\", \"#00846F\",\n",
    "        \"#372101\", \"#FFB500\", \"#C2FFED\", \"#A079BF\", \"#CC0744\", \"#C0B9B2\", \"#C2FF99\", \"#001E09\",\n",
    "        \"#00489C\", \"#6F0062\", \"#0CBD66\", \"#EEC3FF\", \"#456D75\", \"#B77B68\", \"#7A87A1\", \"#788D66\",\n",
    "        \"#885578\", \"#FAD09F\", \"#FF8A9A\", \"#D157A0\", \"#BEC459\", \"#456648\", \"#0086ED\", \"#886F4C\",\n",
    "        \"#34362D\", \"#B4A8BD\", \"#00A6AA\", \"#452C2C\", \"#636375\", \"#A3C8C9\", \"#FF913F\", \"#938A81\",\n",
    "        \"#575329\", \"#00FECF\", \"#B05B6F\", \"#8CD0FF\", \"#3B9700\", \"#04F757\", \"#C8A1A1\", \"#1E6E00\",\n",
    "        \"#7900D7\", \"#A77500\", \"#6367A9\", \"#A05837\", \"#6B002C\", \"#772600\", \"#D790FF\", \"#9B9700\",\n",
    "        \"#549E79\", \"#FFF69F\", \"#201625\", \"#72418F\", \"#BC23FF\", \"#99ADC0\", \"#3A2465\", \"#922329\",\n",
    "        \"#5B4534\", \"#FDE8DC\", \"#404E55\", \"#0089A3\", \"#CB7E98\", \"#A4E804\", \"#324E72\", \"#6A3A4C\",\n",
    "        \"#83AB58\", \"#001C1E\", \"#D1F7CE\", \"#004B28\", \"#C8D0F6\", \"#A3A489\", \"#806C66\", \"#222800\",\n",
    "        \"#BF5650\", \"#E83000\", \"#66796D\", \"#DA007C\", \"#FF1A59\", \"#8ADBB4\", \"#1E0200\", \"#5B4E51\",\n",
    "        \"#C895C5\", \"#320033\", \"#FF6832\", \"#66E1D3\", \"#CFCDAC\", \"#D0AC94\", \"#7ED379\", \"#012C58\",\n",
    "        \"#7A7BFF\", \"#D68E01\", \"#353339\", \"#78AFA1\", \"#FEB2C6\", \"#75797C\", \"#837393\", \"#943A4D\",\n",
    "        \"#B5F4FF\", \"#D2DCD5\", \"#9556BD\", \"#6A714A\", \"#001325\", \"#02525F\", \"#0AA3F7\", \"#E98176\",\n",
    "        \"#DBD5DD\", \"#5EBCD1\", \"#3D4F44\", \"#7E6405\", \"#02684E\", \"#962B75\", \"#8D8546\", \"#9695C5\",\n",
    "        \"#E773CE\", \"#D86A78\", \"#3E89BE\", \"#CA834E\", \"#518A87\", \"#5B113C\", \"#55813B\", \"#E704C4\",\n",
    "        \"#00005F\", \"#A97399\", \"#4B8160\", \"#59738A\", \"#FF5DA7\", \"#F7C9BF\", \"#643127\", \"#513A01\",\n",
    "        \"#6B94AA\", \"#51A058\", \"#A45B02\", \"#1D1702\", \"#E20027\", \"#E7AB63\", \"#4C6001\", \"#9C6966\",\n",
    "        \"#64547B\", \"#97979E\", \"#006A66\", \"#391406\", \"#F4D749\", \"#0045D2\", \"#006C31\", \"#DDB6D0\",\n",
    "        \"#7C6571\", \"#9FB2A4\", \"#00D891\", \"#15A08A\", \"#BC65E9\", \"#FFFFFE\", \"#C6DC99\", \"#203B3C\",\n",
    "        \"#671190\", \"#6B3A64\", \"#F5E1FF\", \"#FFA0F2\", \"#CCAA35\", \"#374527\", \"#8BB400\", \"#797868\",\n",
    "        \"#C6005A\", \"#3B000A\", \"#C86240\", \"#29607C\", \"#402334\", \"#7D5A44\", \"#CCB87C\", \"#B88183\",\n",
    "        \"#AA5199\", \"#B5D6C3\", \"#A38469\", \"#9F94F0\", \"#A74571\", \"#B894A6\", \"#71BB8C\", \"#00B433\",\n",
    "        \"#789EC9\", \"#6D80BA\", \"#953F00\", \"#5EFF03\", \"#E4FFFC\", \"#1BE177\", \"#BCB1E5\", \"#76912F\",\n",
    "        \"#003109\", \"#0060CD\", \"#D20096\", \"#895563\", \"#29201D\", \"#5B3213\", \"#A76F42\", \"#89412E\",\n",
    "        \"#1A3A2A\", \"#494B5A\", \"#A88C85\", \"#F4ABAA\", \"#A3F3AB\", \"#00C6C8\", \"#EA8B66\", \"#958A9F\",\n",
    "        \"#BDC9D2\", \"#9FA064\", \"#BE4700\", \"#658188\", \"#83A485\", \"#453C23\", \"#47675D\", \"#3A3F00\",\n",
    "        \"#061203\", \"#DFFB71\", \"#868E7E\", \"#98D058\", \"#6C8F7D\", \"#D7BFC2\", \"#3C3E6E\", \"#D83D66\",\n",
    "        \"#2F5D9B\", \"#6C5E46\", \"#D25B88\", \"#5B656C\", \"#00B57F\", \"#545C46\", \"#866097\", \"#365D25\",\n",
    "        \"#252F99\", \"#00CCFF\", \"#674E60\", \"#FC009C\", \"#92896B\", \"#1E2324\", \"#DEC9B2\", \"#9D4948\",\n",
    "        \"#85ABB4\", \"#342142\", \"#D09685\", \"#A4ACAC\", \"#00FFFF\", \"#AE9C86\", \"#742A33\", \"#0E72C5\",\n",
    "        \"#AFD8EC\", \"#C064B9\", \"#91028C\", \"#FEEDBF\", \"#FFB789\", \"#9CB8E4\", \"#AFFFD1\", \"#2A364C\",\n",
    "        \"#4F4A43\", \"#647095\", \"#34BBFF\", \"#807781\", \"#920003\", \"#B3A5A7\", \"#018615\", \"#F1FFC8\",\n",
    "        \"#976F5C\", \"#FF3BC1\", \"#FF5F6B\", \"#077D84\", \"#F56D93\", \"#5771DA\", \"#4E1E2A\", \"#830055\",\n",
    "        \"#02D346\", \"#BE452D\", \"#00905E\", \"#BE0028\", \"#6E96E3\", \"#007699\", \"#FEC96D\", \"#9C6A7D\",\n",
    "        \"#3FA1B8\", \"#893DE3\", \"#79B4D6\", \"#7FD4D9\", \"#6751BB\", \"#B28D2D\", \"#E27A05\", \"#DD9CB8\",\n",
    "        \"#AABC7A\", \"#980034\", \"#561A02\", \"#8F7F00\", \"#635000\", \"#CD7DAE\", \"#8A5E2D\", \"#FFB3E1\",\n",
    "        \"#6B6466\", \"#C6D300\", \"#0100E2\", \"#88EC69\", \"#8FCCBE\", \"#21001C\", \"#511F4D\", \"#E3F6E3\",\n",
    "        \"#FF8EB1\", \"#6B4F29\", \"#A37F46\", \"#6A5950\", \"#1F2A1A\", \"#04784D\", \"#101835\", \"#E6E0D0\",\n",
    "        \"#FF74FE\", \"#00A45F\", \"#8F5DF8\", \"#4B0059\", \"#412F23\", \"#D8939E\", \"#DB9D72\", \"#604143\",\n",
    "        \"#B5BACE\", \"#989EB7\", \"#D2C4DB\", \"#A587AF\", \"#77D796\", \"#7F8C94\", \"#FF9B03\", \"#555196\",\n",
    "        \"#31DDAE\", \"#74B671\", \"#802647\", \"#2A373F\", \"#014A68\", \"#696628\", \"#4C7B6D\", \"#002C27\",\n",
    "        \"#7A4522\", \"#3B5859\", \"#E5D381\", \"#FFF3FF\", \"#679FA0\", \"#261300\", \"#2C5742\", \"#9131AF\",\n",
    "        \"#AF5D88\", \"#C7706A\", \"#61AB1F\", \"#8CF2D4\", \"#C5D9B8\", \"#9FFFFB\", \"#BF45CC\", \"#493941\",\n",
    "        \"#863B60\", \"#B90076\", \"#003177\", \"#C582D2\", \"#C1B394\", \"#602B70\", \"#887868\", \"#BABFB0\",\n",
    "        \"#030012\", \"#D1ACFE\", \"#7FDEFE\", \"#4B5C71\", \"#A3A097\", \"#E66D53\", \"#637B5D\", \"#92BEA5\",\n",
    "        \"#00F8B3\", \"#BEDDFF\", \"#3DB5A7\", \"#DD3248\", \"#B6E4DE\", \"#427745\", \"#598C5A\", \"#B94C59\",\n",
    "        \"#8181D5\", \"#94888B\", \"#FED6BD\", \"#536D31\", \"#6EFF92\", \"#E4E8FF\", \"#20E200\", \"#FFD0F2\",\n",
    "        \"#4C83A1\", \"#BD7322\", \"#915C4E\", \"#8C4787\", \"#025117\", \"#A2AA45\", \"#2D1B21\", \"#A9DDB0\",\n",
    "        \"#FF4F78\", \"#528500\", \"#009A2E\", \"#17FCE4\", \"#71555A\", \"#525D82\", \"#00195A\", \"#967874\",\n",
    "        \"#555558\", \"#0B212C\", \"#1E202B\", \"#EFBFC4\", \"#6F9755\", \"#6F7586\", \"#501D1D\", \"#372D00\",\n",
    "        \"#741D16\", \"#5EB393\", \"#B5B400\", \"#DD4A38\", \"#363DFF\", \"#AD6552\", \"#6635AF\", \"#836BBA\",\n",
    "        \"#98AA7F\", \"#464836\", \"#322C3E\", \"#7CB9BA\", \"#5B6965\", \"#707D3D\", \"#7A001D\", \"#6E4636\",\n",
    "        \"#443A38\", \"#AE81FF\", \"#489079\", \"#897334\", \"#009087\", \"#DA713C\", \"#361618\", \"#FF6F01\",\n",
    "        \"#006679\", \"#370E77\", \"#4B3A83\", \"#C9E2E6\", \"#C44170\", \"#FF4526\", \"#73BE54\", \"#C4DF72\",\n",
    "        \"#ADFF60\", \"#00447D\", \"#DCCEC9\", \"#BD9479\", \"#656E5B\", \"#EC5200\", \"#FF6EC2\", \"#7A617E\",\n",
    "        \"#DDAEA2\", \"#77837F\", \"#A53327\", \"#608EFF\", \"#B599D7\", \"#A50149\", \"#4E0025\", \"#C9B1A9\",\n",
    "        \"#03919A\", \"#1B2A25\", \"#E500F1\", \"#982E0B\", \"#B67180\", \"#E05859\", \"#006039\", \"#578F9B\",\n",
    "        \"#305230\", \"#CE934C\", \"#B3C2BE\", \"#C0BAC0\", \"#B506D3\", \"#170C10\", \"#4C534F\", \"#224451\",\n",
    "        \"#3E4141\", \"#78726D\", \"#B6602B\", \"#200441\", \"#DDB588\", \"#497200\", \"#C5AAB6\", \"#033C61\",\n",
    "        \"#71B2F5\", \"#A9E088\", \"#4979B0\", \"#A2C3DF\", \"#784149\", \"#2D2B17\", \"#3E0E2F\", \"#57344C\",\n",
    "        \"#0091BE\", \"#E451D1\", \"#4B4B6A\", \"#5C011A\", \"#7C8060\", \"#FF9491\", \"#4C325D\", \"#005C8B\",\n",
    "        \"#E5FDA4\", \"#68D1B6\", \"#032641\", \"#140023\", \"#8683A9\", \"#CFFF00\", \"#A72C3E\", \"#34475A\",\n",
    "        \"#B1BB9A\", \"#B4A04F\", \"#8D918E\", \"#A168A6\", \"#813D3A\", \"#425218\", \"#DA8386\", \"#776133\",\n",
    "        \"#563930\", \"#8498AE\", \"#90C1D3\", \"#B5666B\", \"#9B585E\", \"#856465\", \"#AD7C90\", \"#E2BC00\",\n",
    "        \"#E3AAE0\", \"#B2C2FE\", \"#FD0039\", \"#009B75\", \"#FFF46D\", \"#E87EAC\", \"#DFE3E6\", \"#848590\",\n",
    "        \"#AA9297\", \"#83A193\", \"#577977\", \"#3E7158\", \"#C64289\", \"#EA0072\", \"#C4A8CB\", \"#55C899\",\n",
    "        \"#E78FCF\", \"#004547\", \"#F6E2E3\", \"#966716\", \"#378FDB\", \"#435E6A\", \"#DA0004\", \"#1B000F\",\n",
    "        \"#5B9C8F\", \"#6E2B52\", \"#011115\", \"#E3E8C4\", \"#AE3B85\", \"#EA1CA9\", \"#FF9E6B\", \"#457D8B\",\n",
    "        \"#92678B\", \"#00CDBB\", \"#9CCC04\", \"#002E38\", \"#96C57F\", \"#CFF6B4\", \"#492818\", \"#766E52\",\n",
    "        \"#20370E\", \"#E3D19F\", \"#2E3C30\", \"#B2EACE\", \"#F3BDA4\", \"#A24E3D\", \"#976FD9\", \"#8C9FA8\",\n",
    "        \"#7C2B73\", \"#4E5F37\", \"#5D5462\", \"#90956F\", \"#6AA776\", \"#DBCBF6\", \"#DA71FF\", \"#987C95\",\n",
    "        \"#52323C\", \"#BB3C42\", \"#584D39\", \"#4FC15F\", \"#A2B9C1\", \"#79DB21\", \"#1D5958\", \"#BD744E\",\n",
    "        \"#160B00\", \"#20221A\", \"#6B8295\", \"#00E0E4\", \"#102401\", \"#1B782A\", \"#DAA9B5\", \"#B0415D\",\n",
    "        \"#859253\", \"#97A094\", \"#06E3C4\", \"#47688C\", \"#7C6755\", \"#075C00\", \"#7560D5\", \"#7D9F00\",\n",
    "        \"#C36D96\", \"#4D913E\", \"#5F4276\", \"#FCE4C8\", \"#303052\", \"#4F381B\", \"#E5A532\", \"#706690\",\n",
    "        \"#AA9A92\", \"#237363\", \"#73013E\", \"#FF9079\", \"#A79A74\", \"#029BDB\", \"#FF0169\", \"#C7D2E7\",\n",
    "        \"#CA8869\", \"#80FFCD\", \"#BB1F69\", \"#90B0AB\", \"#7D74A9\", \"#FCC7DB\", \"#99375B\", \"#00AB4D\",\n",
    "        \"#ABAED1\", \"#BE9D91\", \"#E6E5A7\", \"#332C22\", \"#DD587B\", \"#F5FFF7\", \"#5D3033\", \"#6D3800\",\n",
    "        \"#FF0020\", \"#B57BB3\", \"#D7FFE6\", \"#C535A9\", \"#260009\", \"#6A8781\", \"#A8ABB4\", \"#D45262\",\n",
    "        \"#794B61\", \"#4621B2\", \"#8DA4DB\", \"#C7C890\", \"#6FE9AD\", \"#A243A7\", \"#B2B081\", \"#181B00\",\n",
    "        \"#286154\", \"#4CA43B\", \"#6A9573\", \"#A8441D\", \"#5C727B\", \"#738671\", \"#D0CFCB\", \"#897B77\",\n",
    "        \"#1F3F22\", \"#4145A7\", \"#DA9894\", \"#A1757A\", \"#63243C\", \"#ADAAFF\", \"#00CDE2\", \"#DDBC62\",\n",
    "        \"#698EB1\", \"#208462\", \"#00B7E0\", \"#614A44\", \"#9BBB57\", \"#7A5C54\", \"#857A50\", \"#766B7E\",\n",
    "        \"#014833\", \"#FF8347\", \"#7A8EBA\", \"#274740\", \"#946444\", \"#EBD8E6\", \"#646241\", \"#373917\",\n",
    "        \"#6AD450\", \"#81817B\", \"#D499E3\", \"#979440\", \"#011A12\", \"#526554\", \"#B5885C\", \"#A499A5\",\n",
    "        \"#03AD89\", \"#B3008B\", \"#E3C4B5\", \"#96531F\", \"#867175\", \"#74569E\", \"#617D9F\", \"#E70452\",\n",
    "        \"#067EAF\", \"#A697B6\", \"#B787A8\", \"#9CFF93\", \"#311D19\", \"#3A9459\", \"#6E746E\", \"#B0C5AE\",\n",
    "        \"#84EDF7\", \"#ED3488\", \"#754C78\", \"#384644\", \"#C7847B\", \"#00B6C5\", \"#7FA670\", \"#C1AF9E\",\n",
    "        \"#2A7FFF\", \"#72A58C\", \"#FFC07F\", \"#9DEBDD\", \"#D97C8E\", \"#7E7C93\", \"#62E674\", \"#B5639E\",\n",
    "        \"#FFA861\", \"#C2A580\", \"#8D9C83\", \"#B70546\", \"#372B2E\", \"#0098FF\", \"#985975\", \"#20204C\",\n",
    "        \"#FF6C60\", \"#445083\", \"#8502AA\", \"#72361F\", \"#9676A3\", \"#484449\", \"#CED6C2\", \"#3B164A\",\n",
    "        \"#CCA763\", \"#2C7F77\", \"#02227B\", \"#A37E6F\", \"#CDE6DC\", \"#CDFFFB\", \"#BE811A\", \"#F77183\",\n",
    "        \"#EDE6E2\", \"#CDC6B4\", \"#FFE09E\", \"#3A7271\", \"#FF7B59\", \"#4E4E01\", \"#4AC684\", \"#8BC891\",\n",
    "        \"#BC8A96\", \"#CF6353\", \"#DCDE5C\", \"#5EAADD\", \"#F6A0AD\", \"#E269AA\", \"#A3DAE4\", \"#436E83\",\n",
    "        \"#002E17\", \"#ECFBFF\", \"#A1C2B6\", \"#50003F\", \"#71695B\", \"#67C4BB\", \"#536EFF\", \"#5D5A48\",\n",
    "        \"#890039\", \"#969381\", \"#371521\", \"#5E4665\", \"#AA62C3\", \"#8D6F81\", \"#2C6135\", \"#410601\",\n",
    "        \"#564620\", \"#E69034\", \"#6DA6BD\", \"#E58E56\", \"#E3A68B\", \"#48B176\", \"#D27D67\", \"#B5B268\",\n",
    "        \"#7F8427\", \"#FF84E6\", \"#435740\", \"#EAE408\", \"#F4F5FF\", \"#325800\", \"#4B6BA5\", \"#ADCEFF\",\n",
    "        \"#9B8ACC\", \"#885138\", \"#5875C1\", \"#7E7311\", \"#FEA5CA\", \"#9F8B5B\", \"#A55B54\", \"#89006A\",\n",
    "        \"#AF756F\", \"#2A2000\", \"#576E4A\", \"#7F9EFF\", \"#7499A1\", \"#FFB550\", \"#00011E\", \"#D1511C\",\n",
    "        \"#688151\", \"#BC908A\", \"#78C8EB\", \"#8502FF\", \"#483D30\", \"#C42221\", \"#5EA7FF\", \"#785715\",\n",
    "        \"#0CEA91\", \"#FFFAED\", \"#B3AF9D\", \"#3E3D52\", \"#5A9BC2\", \"#9C2F90\", \"#8D5700\", \"#ADD79C\",\n",
    "        \"#00768B\", \"#337D00\", \"#C59700\", \"#3156DC\", \"#944575\", \"#ECFFDC\", \"#D24CB2\", \"#97703C\",\n",
    "        \"#4C257F\", \"#9E0366\", \"#88FFEC\", \"#B56481\", \"#396D2B\", \"#56735F\", \"#988376\", \"#9BB195\",\n",
    "        \"#A9795C\", \"#E4C5D3\", \"#9F4F67\", \"#1E2B39\", \"#664327\", \"#AFCE78\", \"#322EDF\", \"#86B487\",\n",
    "        \"#C23000\", \"#ABE86B\", \"#96656D\", \"#250E35\", \"#A60019\", \"#0080CF\", \"#CAEFFF\", \"#323F61\",\n",
    "        \"#A449DC\", \"#6A9D3B\", \"#FF5AE4\", \"#636A01\", \"#D16CDA\", \"#736060\", \"#FFBAAD\", \"#D369B4\",\n",
    "        \"#FFDED6\", \"#6C6D74\", \"#927D5E\", \"#845D70\", \"#5B62C1\", \"#2F4A36\", \"#E45F35\", \"#FF3B53\",\n",
    "        \"#AC84DD\", \"#762988\", \"#70EC98\", \"#408543\", \"#2C3533\", \"#2E182D\", \"#323925\", \"#19181B\",\n",
    "        \"#2F2E2C\", \"#023C32\", \"#9B9EE2\", \"#58AFAD\", \"#5C424D\", \"#7AC5A6\", \"#685D75\", \"#B9BCBD\",\n",
    "        \"#834357\", \"#1A7B42\", \"#2E57AA\", \"#E55199\", \"#316E47\", \"#CD00C5\", \"#6A004D\", \"#7FBBEC\",\n",
    "        \"#F35691\", \"#D7C54A\", \"#62ACB7\", \"#CBA1BC\", \"#A28A9A\", \"#6C3F3B\", \"#FFE47D\", \"#DCBAE3\",\n",
    "        \"#5F816D\", \"#3A404A\", \"#7DBF32\", \"#E6ECDC\", \"#852C19\", \"#285366\", \"#B8CB9C\", \"#0E0D00\",\n",
    "        \"#4B5D56\", \"#6B543F\", \"#E27172\", \"#0568EC\", \"#2EB500\", \"#D21656\", \"#EFAFFF\", \"#682021\",\n",
    "        \"#2D2011\", \"#DA4CFF\", \"#70968E\", \"#FF7B7D\", \"#4A1930\", \"#E8C282\", \"#E7DBBC\", \"#A68486\",\n",
    "        \"#1F263C\", \"#36574E\", \"#52CE79\", \"#ADAAA9\", \"#8A9F45\", \"#6542D2\", \"#00FB8C\", \"#5D697B\",\n",
    "        \"#CCD27F\", \"#94A5A1\", \"#790229\", \"#E383E6\", \"#7EA4C1\", \"#4E4452\", \"#4B2C00\", \"#620B70\",\n",
    "        \"#314C1E\", \"#874AA6\", \"#E30091\", \"#66460A\", \"#EB9A8B\", \"#EAC3A3\", \"#98EAB3\", \"#AB9180\",\n",
    "        \"#B8552F\", \"#1A2B2F\", \"#94DDC5\", \"#9D8C76\", \"#9C8333\", \"#94A9C9\", \"#392935\", \"#8C675E\",\n",
    "        \"#CCE93A\", \"#917100\", \"#01400B\", \"#449896\", \"#1CA370\", \"#E08DA7\", \"#8B4A4E\", \"#667776\",\n",
    "        \"#4692AD\", \"#67BDA8\", \"#69255C\", \"#D3BFFF\", \"#4A5132\", \"#7E9285\", \"#77733C\", \"#E7A0CC\",\n",
    "        \"#51A288\", \"#2C656A\", \"#4D5C5E\", \"#C9403A\", \"#DDD7F3\", \"#005844\", \"#B4A200\", \"#488F69\",\n",
    "        \"#858182\", \"#D4E9B9\", \"#3D7397\", \"#CAE8CE\", \"#D60034\", \"#AA6746\", \"#9E5585\", \"#BA6200\"]\n",
    "\n",
    "    line_color_2 = marker_color\n",
    "    # print(marker_color)\n",
    "\n",
    "    # Define marker style for data points\n",
    "    marker_style = 'o'\n",
    "    marker_size = 6\n",
    "\n",
    "    # Set figure size\n",
    "    plt.figure(figsize=(8, 6))\n",
    "\n",
    "    # Unzip the intersections_points array to separate x and y values\n",
    "    x_values, y_values = zip(*intersections_points)\n",
    "\n",
    "    cco = -1\n",
    "    for connected_nodes in all_connected_nodes:\n",
    "      cco = cco + 1\n",
    "      NC = len(connected_nodes)\n",
    "      for ic in range(NC):\n",
    "          i = connected_nodes[ic]\n",
    "          # Plot points\n",
    "          plt.scatter(x_values[i], y_values[i], c=marker_color[cco], marker='*', label='Connected Points', s=marker_size, zorder=2)\n",
    "\n",
    "    cco = -1\n",
    "    for connected_pairs in all_connected_pairs:\n",
    "      cco = cco + 1\n",
    "      NP = len(connected_pairs)\n",
    "      for ip in range(NP):\n",
    "          i = connected_pairs[ip][0]\n",
    "          j = connected_pairs[ip][1]\n",
    "          #print(i,j)\n",
    "          plt.plot([x_values[i], x_values[j]], [y_values[i], y_values[j]], linestyle='-', color=line_color_2[cco], zorder=0)\n",
    "\n",
    "    # Set labels and title\n",
    "    # plt.xlabel('X')\n",
    "    # plt.ylabel('Y')\n",
    "    plt.title(f'N = {N}', fontsize=22)\n",
    "\n",
    "    # Adjust plot limits\n",
    "    plt.xlim(0, 1)\n",
    "    plt.ylim(0, 1)\n",
    "\n",
    "    # Remove x and y axis values (ticks and labels)\n",
    "    plt.xticks([])\n",
    "    plt.yticks([])\n",
    "\n",
    "    plt.savefig(f'N = {N} - just the paths')\n",
    "\n",
    "    # Display the plot\n",
    "    plt.show()"
   ]
  },
  {
   "cell_type": "markdown",
   "id": "d1f3ebe2",
   "metadata": {
    "id": "d1f3ebe2"
   },
   "source": [
    "Plotting just the percolating paths"
   ]
  },
  {
   "cell_type": "code",
   "execution_count": null,
   "id": "8a683f5f",
   "metadata": {
    "id": "8a683f5f"
   },
   "outputs": [],
   "source": [
    "def plot_percolating_paths(N):\n",
    "    # Define custom colors\n",
    "    line_color = 'steelblue'\n",
    "    line_color_2 = ['green', 'red', 'blue', 'yellow', 'orange', 'black']\n",
    "    marker_color = ['green', 'red', 'blue', 'yellow', 'orange', 'black']\n",
    "\n",
    "    # Define marker style for data points\n",
    "    marker_style = 'o'\n",
    "    marker_size = 6\n",
    "\n",
    "    # Unzip the intersections_points array to separate x and y values\n",
    "    x_values, y_values = zip(*intersections_points)\n",
    "\n",
    "    # Create a new figure\n",
    "    plt.figure(figsize=(8, 6))\n",
    "\n",
    "    color_index = -1\n",
    "\n",
    "    for k, perc in enumerate(all_path_perc):\n",
    "        if perc == 1:\n",
    "            print(perc)\n",
    "            color_index = color_index + 1\n",
    "            connected_nodes = all_connected_nodes[k]\n",
    "            connected_pairs = all_connected_pairs[k]\n",
    "\n",
    "            # Plot connected nodes\n",
    "            for i in connected_nodes:\n",
    "                plt.scatter(x_values[i], y_values[i], c=marker_color[color_index], marker='*', label='Connected Points',\n",
    "                            s=marker_size, zorder=2)\n",
    "\n",
    "            # Plot connected pairs\n",
    "            for i, j in connected_pairs:\n",
    "                plt.plot([x_values[i], x_values[j]], [y_values[i], y_values[j]], linestyle='-',\n",
    "                         color=line_color_2[color_index], zorder=0)\n",
    "\n",
    "    # Set labels and title\n",
    "    # plt.xlabel('X')\n",
    "    # plt.ylabel('Y')\n",
    "    plt.title(f'N = {N}', fontsize=22)\n",
    "\n",
    "    # Adjust plot limits\n",
    "    plt.xlim(0, 1)\n",
    "    plt.ylim(0, 1)\n",
    "\n",
    "    # Remove x and y axis values (ticks and labels)\n",
    "    plt.xticks([])\n",
    "    plt.yticks([])\n",
    "\n",
    "    plt.savefig(f'N = {N} - percolating paths.png')\n",
    "\n",
    "    # Display the plot\n",
    "    plt.show()\n"
   ]
  },
  {
   "cell_type": "markdown",
   "id": "V7fbgP8YM3u2",
   "metadata": {
    "id": "V7fbgP8YM3u2"
   },
   "source": [
    "# **Executing the Experiment**"
   ]
  },
  {
   "cell_type": "code",
   "execution_count": null,
   "id": "7ec1ae46",
   "metadata": {
    "id": "7ec1ae46"
   },
   "outputs": [],
   "source": [
    "N = 800\n",
    "points_1 = []\n",
    "points_2 = []\n",
    "edges = []\n",
    "nodes = []\n",
    "intersected_line_1 = []\n",
    "intersected_line_2 = []\n",
    "intersections_points = []\n",
    "alphas = []\n",
    "points(N)"
   ]
  },
  {
   "cell_type": "code",
   "execution_count": null,
   "id": "77415c1f",
   "metadata": {
    "id": "77415c1f"
   },
   "outputs": [],
   "source": [
    "intersected_line_1 = []\n",
    "intersected_line_2 = []\n",
    "edges = []\n",
    "nodes = []\n",
    "intersections_points = []\n",
    "identify_intersections(points_1, points_2, alphas, a, N)"
   ]
  },
  {
   "cell_type": "code",
   "execution_count": null,
   "id": "wFMgT8BtMOjt",
   "metadata": {
    "colab": {
     "base_uri": "https://localhost:8080/"
    },
    "id": "wFMgT8BtMOjt",
    "outputId": "5893b064-89d9-4331-9e6f-d29ab7370bfa"
   },
   "outputs": [],
   "source": [
    "print(intersections_points)\n",
    "print(edges)"
   ]
  },
  {
   "cell_type": "markdown",
   "id": "nDaFeRRsOBd7",
   "metadata": {
    "id": "nDaFeRRsOBd7"
   },
   "source": [
    "VERY IMPORTANT DATA STRUCTURES"
   ]
  },
  {
   "cell_type": "markdown",
   "id": "a382be00",
   "metadata": {
    "id": "a382be00"
   },
   "source": [
    "Searching in intersection_points array for elements with x < 0.1"
   ]
  },
  {
   "cell_type": "code",
   "execution_count": null,
   "id": "32a1bb01",
   "metadata": {
    "id": "32a1bb01"
   },
   "outputs": [],
   "source": [
    "boundary_condition_source = []\n",
    "boundary_condition_drain = []"
   ]
  },
  {
   "cell_type": "code",
   "execution_count": null,
   "id": "3e4caec9",
   "metadata": {
    "id": "3e4caec9"
   },
   "outputs": [],
   "source": [
    "for i in range(len(intersections_points)):\n",
    "  if intersections_points[i][0] < 0.1:\n",
    "    boundary_condition_source.append(i)\n",
    "  elif intersections_points[i][0] > 0.9:\n",
    "    boundary_condition_drain.append(i)"
   ]
  },
  {
   "cell_type": "code",
   "execution_count": null,
   "id": "CS4ggiyVYZXM",
   "metadata": {
    "colab": {
     "base_uri": "https://localhost:8080/"
    },
    "id": "CS4ggiyVYZXM",
    "outputId": "026f0e0e-16b8-474a-f16d-30836d0510fc"
   },
   "outputs": [],
   "source": [
    "print(\"Number of identified intersection points =\", len(intersections_points))\n",
    "print(\"In the source contact region =\", len(boundary_condition_source))\n",
    "print(\"In the drain contact region =\", len(boundary_condition_drain))\n",
    "print(boundary_condition_source)"
   ]
  },
  {
   "cell_type": "markdown",
   "id": "123a4f94",
   "metadata": {
    "id": "123a4f94"
   },
   "source": [
    "Searching for all paths where the initial node has a value of x < 0.1."
   ]
  },
  {
   "cell_type": "code",
   "execution_count": null,
   "id": "ddafdec0",
   "metadata": {
    "id": "ddafdec0"
   },
   "outputs": [],
   "source": [
    "all_paths = []"
   ]
  },
  {
   "cell_type": "code",
   "execution_count": null,
   "id": "006b96a9",
   "metadata": {
    "id": "006b96a9"
   },
   "outputs": [],
   "source": [
    "all_connected_nodes = []\n",
    "all_connected_lines = []\n",
    "all_connected_pairs = []\n",
    "all_path_perc = []"
   ]
  },
  {
   "cell_type": "code",
   "execution_count": null,
   "id": "30d62a36",
   "metadata": {
    "colab": {
     "base_uri": "https://localhost:8080/"
    },
    "id": "30d62a36",
    "outputId": "464d7b4b-76fd-41fe-f98c-eb6d2bfe8eb4"
   },
   "outputs": [],
   "source": [
    "for i in boundary_condition_source:\n",
    "  do_not_check = 0\n",
    "  number_path = len(all_connected_nodes)\n",
    "  for k in range(0,number_path):\n",
    "    if i in all_connected_nodes[k]:\n",
    "      do_not_check = 1\n",
    "  if do_not_check == 0:\n",
    "    print(f\"Path number = {number_path}\")\n",
    "    print(f\"node = {i}\")\n",
    "    start_node = i\n",
    "    connected_nodes, connected_lines, connected_pairs, path_perc = find_path(edges, start_node)\n",
    "    all_connected_nodes.append(connected_nodes)\n",
    "    all_connected_lines.append(connected_lines)\n",
    "    all_connected_pairs.append(connected_pairs)\n",
    "    all_path_perc.append(path_perc)\n",
    "  # print(f\"All nodes = {all_connected_nodes}\")\n",
    "  # print(f\"All lines = {all_connected_lines}\")"
   ]
  },
  {
   "cell_type": "code",
   "execution_count": null,
   "id": "0f998386",
   "metadata": {
    "colab": {
     "base_uri": "https://localhost:8080/"
    },
    "id": "0f998386",
    "outputId": "3c984353-7ca2-45b0-b673-7e35c1d07320"
   },
   "outputs": [],
   "source": [
    "print(all_connected_nodes)\n",
    "print(all_connected_lines)\n",
    "print(all_connected_pairs)\n",
    "print(all_path_perc)"
   ]
  },
  {
   "cell_type": "markdown",
   "id": "40fd33ab",
   "metadata": {
    "id": "40fd33ab"
   },
   "source": [
    "Plotting the lines"
   ]
  },
  {
   "cell_type": "code",
   "execution_count": null,
   "id": "443f5f07",
   "metadata": {
    "colab": {
     "base_uri": "https://localhost:8080/",
     "height": 530
    },
    "id": "443f5f07",
    "outputId": "3768f79c-e0d8-4f12-cf6f-1a31ab0c906b"
   },
   "outputs": [],
   "source": [
    "plot_lines(N)"
   ]
  },
  {
   "cell_type": "markdown",
   "id": "b9ffe5a2",
   "metadata": {
    "id": "b9ffe5a2"
   },
   "source": [
    "Plotting the lines where there is an intersection."
   ]
  },
  {
   "cell_type": "code",
   "execution_count": null,
   "id": "62c539e1",
   "metadata": {
    "colab": {
     "base_uri": "https://localhost:8080/",
     "height": 530
    },
    "id": "62c539e1",
    "outputId": "3715b0be-b7a8-45f1-b6b9-b37081a84a4b"
   },
   "outputs": [],
   "source": [
    "plot_lines_intersection(N)"
   ]
  },
  {
   "cell_type": "code",
   "execution_count": null,
   "id": "sHswL9SRQCJh",
   "metadata": {
    "colab": {
     "base_uri": "https://localhost:8080/"
    },
    "id": "sHswL9SRQCJh",
    "outputId": "ac2385a3-c933-4c2e-d09c-e12612e82925"
   },
   "outputs": [],
   "source": [
    "print(len(intersections_points))"
   ]
  },
  {
   "cell_type": "markdown",
   "id": "e47ec901",
   "metadata": {
    "id": "e47ec901"
   },
   "source": [
    "Plotting all the paths"
   ]
  },
  {
   "cell_type": "code",
   "execution_count": null,
   "id": "0eec33c9",
   "metadata": {
    "colab": {
     "base_uri": "https://localhost:8080/",
     "height": 530
    },
    "id": "0eec33c9",
    "outputId": "594c02d1-71db-444f-db49-202812eaa04f"
   },
   "outputs": [],
   "source": [
    "plot_only_paths(N)"
   ]
  },
  {
   "cell_type": "markdown",
   "id": "b283f567",
   "metadata": {
    "id": "b283f567"
   },
   "source": [
    "Plotting just the percolating paths"
   ]
  },
  {
   "cell_type": "code",
   "execution_count": null,
   "id": "54da0eb1",
   "metadata": {
    "colab": {
     "base_uri": "https://localhost:8080/",
     "height": 530
    },
    "id": "54da0eb1",
    "outputId": "8afdbd2e-db08-44e3-e474-f993b120b642"
   },
   "outputs": [],
   "source": [
    "plot_percolating_paths(N)"
   ]
  },
  {
   "cell_type": "markdown",
   "id": "22e7707e",
   "metadata": {
    "id": "22e7707e"
   },
   "source": [
    "## Filtrando para que apenas tenhamos os nós e arestas referentes ao caminho de percolação"
   ]
  },
  {
   "cell_type": "code",
   "execution_count": null,
   "id": "86461b8b",
   "metadata": {
    "id": "86461b8b"
   },
   "outputs": [],
   "source": [
    "# Define lists to filter elements based on a condition (perc == 1)\n",
    "filtered_connected_nodes = [node for node, perc in zip(all_connected_nodes, all_path_perc) if perc == 1]\n",
    "filtered_connected_lines = [line for line, perc in zip(all_connected_lines, all_path_perc) if perc == 1]\n",
    "filtered_connected_pairs = [pair for pair, perc in zip(all_connected_pairs, all_path_perc) if perc == 1]"
   ]
  },
  {
   "cell_type": "code",
   "execution_count": null,
   "id": "EjNs1U4_QaYY",
   "metadata": {
    "colab": {
     "base_uri": "https://localhost:8080/"
    },
    "id": "EjNs1U4_QaYY",
    "outputId": "47d47a88-6791-4cf4-f185-ed325d1a208a"
   },
   "outputs": [],
   "source": [
    "print(filtered_connected_nodes)\n",
    "print(filtered_connected_lines)"
   ]
  },
  {
   "cell_type": "markdown",
   "id": "81df4125",
   "metadata": {},
   "source": [
    "### Criando a matriz de incidência "
   ]
  },
  {
   "cell_type": "code",
   "execution_count": null,
   "id": "f34300fd",
   "metadata": {},
   "outputs": [],
   "source": [
    "def matrixA():\n",
    "    # This function constructs a matrix 'ad' and two index arrays 'indexc' and 'indexl'.\n",
    "\n",
    "    for k, perc in enumerate(all_path_perc):\n",
    "        if perc == 1: \n",
    "            # If 'perc' is equal to 1, it means there is a valid connection.\n",
    "\n",
    "            # Extract connected nodes, pairs, and lines for this connection\n",
    "            connected_nodes = all_connected_nodes[k]\n",
    "            connected_pairs = all_connected_pairs[k]\n",
    "            connected_lines = all_connected_lines[k]\n",
    "\n",
    "            # Initialize variables to track unique connected lines\n",
    "            vll = []  # List to store unique connected lines\n",
    "            indexc = connected_nodes  # Index array for connected nodes\n",
    "            numbc = len(connected_nodes)  # Number of connected nodes\n",
    "            numbl = 0  # Initialize the number of connected lines\n",
    "\n",
    "            # Iterate through connected nodes\n",
    "            for i in range(0, numbc):\n",
    "                # Iterate through lines associated with each node\n",
    "                for ll in connected_lines[i]:\n",
    "                    if ll not in vll:\n",
    "                        numbl += 1\n",
    "                        vll.append(ll)\n",
    "\n",
    "            indexl = vll  # Index array for connected lines\n",
    "\n",
    "            # Create an empty matrix 'ad' to represent the adjacency relationship\n",
    "            ad = np.zeros((numbl, numbc))\n",
    "\n",
    "            mc = -1  # Initialize a counter for connected nodes\n",
    "            visited_lines = []  # List to keep track of visited lines\n",
    "            for i in range(0, numbc):\n",
    "                mc += 1\n",
    "                # Iterate through lines associated with each node\n",
    "                for ll in connected_lines[i]:\n",
    "                    if ll in visited_lines:\n",
    "                        ml = visited_lines.index(ll)\n",
    "                        ad[ml][mc] = 1  # Set the adjacency matrix value to 1 if the line is visited\n",
    "                    else:\n",
    "                        visited_lines.append(ll)\n",
    "                        ml = visited_lines.index(ll)\n",
    "                        ad[ml][mc] = -1  # Set the adjacency matrix value to -1 if the line is newly visited\n",
    "\n",
    "    return ad, indexc, indexl\n",
    "\n",
    "# Note: This function appears to construct an adjacency matrix 'ad' based on information about connected nodes, \n",
    "# pairs,\n",
    "# and lines. It also creates index arrays 'indexc' and 'indexl' to reference connected nodes and lines."
   ]
  },
  {
   "cell_type": "markdown",
   "id": "zmQWo7DKHII-",
   "metadata": {
    "id": "zmQWo7DKHII-"
   },
   "source": [
    "Verify for Dangling Sticks\n",
    "\n",
    "Edges that are connected to only one node are \"dead ends\" and need to be eliminated during current computation to avoid a singular matrix."
   ]
  },
  {
   "cell_type": "code",
   "execution_count": null,
   "id": "nj_lv17j24BG",
   "metadata": {
    "colab": {
     "base_uri": "https://localhost:8080/"
    },
    "id": "nj_lv17j24BG",
    "outputId": "8165b260-81b0-4252-be3d-db94a33a4132"
   },
   "outputs": [],
   "source": [
    "dangling_sticks = []\n",
    "edgesa = []\n",
    "edges1 = []\n",
    "edges2 = []\n",
    "edgestot = []\n",
    "\n",
    "for k in range(0,len(filtered_connected_lines)):\n",
    "  edges1, edges2 = zip(*filtered_connected_lines[k])\n",
    "  edgesa = edges1 + edges2\n",
    "  for i in edgesa:\n",
    "    if edgesa.count(i) == 1:\n",
    "      dangling_sticks.append(i)\n",
    "\n",
    "  for ed in edges1:\n",
    "    if ed not in edgestot:\n",
    "      edgestot.append(ed)\n",
    "  for ed in edges2:\n",
    "    if ed not in edgestot:\n",
    "      edgestot.append(ed)\n",
    "\n",
    "print(dangling_sticks)\n",
    "print(\"Number of dangling sticks detected =\", len(dangling_sticks))\n",
    "# print(len(edgestot))\n",
    "\n",
    "dangling_source = []\n",
    "dangling_drain = []\n",
    "dangling_intern = []\n",
    "for idangle in dangling_sticks:\n",
    "  if idangle in boundary_condition_source:\n",
    "    dangling_source.append(idangle)\n",
    "  elif idangle in boundary_condition_drain:\n",
    "    dangling_drain.append(idangle)\n",
    "  else:\n",
    "    dangling_intern.append(idangle)\n",
    "\n",
    "print(\"Number of dangling source sticks detected =\", len(dangling_source))\n",
    "print(\"Number of dangling drain sticks detected =\", len(dangling_drain))\n",
    "print(\"Number of dangling intern sticks detected =\", len(dangling_intern))\n",
    "\n"
   ]
  },
  {
   "cell_type": "code",
   "execution_count": null,
   "id": "ddbb5db7",
   "metadata": {},
   "outputs": [],
   "source": [
    "# Initialize lists to store various types of edges and dangling sticks\n",
    "dangling_sticks = []  # List to store dangling sticks\n",
    "edgesa = []  # Temporary list to store edges\n",
    "edges1 = []  # List to store the first node of each edge\n",
    "edges2 = []  # List to store the second node of each edge\n",
    "edgestot = []  # List to store all unique edges\n",
    "\n",
    "# Iterate through the filtered_connected_lines\n",
    "for k in range(0, len(filtered_connected_lines)):\n",
    "    # Unzip the edges into edges1 and edges2\n",
    "    edges1, edges2 = zip(*filtered_connected_lines[k])\n",
    "    edgesa = edges1 + edges2\n",
    "\n",
    "    # Detect and append dangling sticks to the dangling_sticks list\n",
    "    for i in edgesa:\n",
    "        if edgesa.count(i) == 1:\n",
    "            dangling_sticks.append(i)\n",
    "\n",
    "    # Create a list of all unique edges in the edgestot list\n",
    "    for ed in edges1:\n",
    "        if ed not in edgestot:\n",
    "            edgestot.append(ed)\n",
    "    for ed in edges2:\n",
    "        if ed not in edgestot:\n",
    "            edgestot.append(ed)\n",
    "\n",
    "# Print the list of dangling sticks and the number of dangling sticks detected\n",
    "print(dangling_sticks)\n",
    "print(\"Number of dangling sticks detected =\", len(dangling_sticks))\n",
    "\n",
    "# Initialize lists to store different types of dangling sticks\n",
    "dangling_source = []  # List for dangling source sticks\n",
    "dangling_drain = []  # List for dangling drain sticks\n",
    "dangling_intern = []  # List for dangling internal sticks\n",
    "\n",
    "# Iterate through the detected dangling sticks\n",
    "for idangle in dangling_sticks:\n",
    "    if idangle in boundary_condition_source:\n",
    "        dangling_source.append(idangle)\n",
    "    elif idangle in boundary_condition_drain:\n",
    "        dangling_drain.append(idangle)\n",
    "    else:\n",
    "        dangling_intern.append(idangle)\n",
    "\n",
    "# Print the number of dangling sticks detected for each type\n",
    "print(\"Number of dangling source sticks detected =\", len(dangling_source))\n",
    "print(\"Number of dangling drain sticks detected =\", len(dangling_drain))\n",
    "print(\"Number of dangling intern sticks detected =\", len(dangling_intern))\n"
   ]
  },
  {
   "cell_type": "code",
   "execution_count": null,
   "id": "G3nH01qPJXgo",
   "metadata": {
    "colab": {
     "base_uri": "https://localhost:8080/",
     "height": 346
    },
    "id": "G3nH01qPJXgo",
    "outputId": "28409d37-b3ec-4eb0-9f1e-62284c5f7008"
   },
   "outputs": [],
   "source": [
    "aa, indexc, indexl = matrixA()\n",
    "print(aa)\n",
    "print(len(indexc))\n",
    "# print(len(filtered_connected_nodes[0]))\n",
    "print(len(indexl))\n",
    "# print(len(edgestot))"
   ]
  },
  {
   "cell_type": "code",
   "execution_count": null,
   "id": "tVhjG2z5Uw_9",
   "metadata": {
    "id": "tVhjG2z5Uw_9"
   },
   "outputs": [],
   "source": [
    "dangerous_lines = []\n",
    "for il in indexl:\n",
    "  if il in dangling_sticks:\n",
    "    dangerous_lines.append(il)\n",
    "print(dangerous_lines)\n",
    "print(len(dangerous_lines))"
   ]
  },
  {
   "cell_type": "code",
   "execution_count": null,
   "id": "m9UAF-1pToud",
   "metadata": {
    "id": "m9UAF-1pToud"
   },
   "outputs": [],
   "source": [
    "L = aa.T@aa\n",
    "print(L)\n",
    "print(len(L))"
   ]
  },
  {
   "cell_type": "code",
   "execution_count": null,
   "id": "258f1188",
   "metadata": {},
   "outputs": [],
   "source": [
    "# Get the length of the matrix L to determine its dimensions\n",
    "nn = len(L)\n",
    "\n",
    "# Initialize variables and lists for index and lines elimination\n",
    "indexc2 = []  # New index for non-boundary nodes\n",
    "list_of_lines_eliminate = []  # List to store lines to be eliminated\n",
    "\n",
    "# Iterate through the original indexc array\n",
    "for i in indexc:\n",
    "    if i in boundary_condition_source:\n",
    "        # If the node is in the boundary condition source, add it to the list of lines to eliminate\n",
    "        list_of_lines_eliminate.append(i)\n",
    "\n",
    "# Calculate the number of lines to be eliminated\n",
    "ne = len(list_of_lines_eliminate)\n",
    "\n",
    "# Create an empty square matrix L_red with reduced dimensions\n",
    "L_red = np.zeros((nn - ne, nn - ne))\n",
    "\n",
    "jred = -1  # Initialize a counter for the reduced indexc2\n",
    "kred = -1  # Initialize a counter for the reduced indexc2\n",
    "\n",
    "# Iterate through the original indexc array\n",
    "for j in range(0, nn):\n",
    "    if indexc[j] not in boundary_condition_source:\n",
    "        # If the node is not in the boundary condition source, reduce it and its associated lines\n",
    "        jred += 1\n",
    "        indexc2.append(indexc[j])  # Add the reduced node to indexc2\n",
    "        kred = -1  # Reset the counter for the reduced indexc2\n",
    "\n",
    "        # Iterate through the original indexc array again\n",
    "        for k in range(0, nn):\n",
    "            if indexc[k] not in boundary_condition_source:\n",
    "                # If the node is not in the boundary condition source, reduce it and its associated lines\n",
    "                kred += 1\n",
    "                L_red[kred][jred] = L[k][j]  # Copy the reduced line values to L_red\n"
   ]
  },
  {
   "cell_type": "code",
   "execution_count": null,
   "id": "jLTtOH4BfdAO",
   "metadata": {
    "id": "jLTtOH4BfdAO"
   },
   "outputs": [],
   "source": [
    "print(L_red)\n",
    "print(len(L_red))\n",
    "print(indexc2)"
   ]
  },
  {
   "cell_type": "code",
   "execution_count": null,
   "id": "HTYzXYU4YJU8",
   "metadata": {
    "id": "HTYzXYU4YJU8"
   },
   "outputs": [],
   "source": [
    "# Get the length of the reduced matrix L_red to determine its dimensions\n",
    "nn = len(L_red)\n",
    "\n",
    "# Initialize variables and lists for index and lines elimination\n",
    "indexc3 = []  # New index for non-drain nodes\n",
    "list_of_lines_eliminate2 = []  # List to store lines to be eliminated (drain lines)\n",
    "\n",
    "# Iterate through the original indexc array\n",
    "for i in indexc:\n",
    "    if i in boundary_condition_drain:\n",
    "        # If the node is in the boundary condition drain, add it to the list of lines to eliminate\n",
    "        list_of_lines_eliminate2.append(i)\n",
    "\n",
    "# Calculate the number of lines to be eliminated (drain lines)\n",
    "ne = len(list_of_lines_eliminate2)\n",
    "\n",
    "# Create an empty square matrix L_red_red with further reduced dimensions\n",
    "L_red_red = np.zeros((nn - ne, nn - ne))\n",
    "\n",
    "# Create a vector 'b' to store boundary conditions for non-drain nodes\n",
    "b = np.zeros((nn - ne, 1))\n",
    "\n",
    "jred = -1  # Initialize a counter for the reduced indexc3\n",
    "kred = -1  # Initialize a counter for the reduced indexc3\n",
    "bi = -1  # Initialize a counter for the 'b' vector\n",
    "\n",
    "# Iterate through the original indexc2 array\n",
    "for j in range(0, nn):\n",
    "    if indexc2[j] not in boundary_condition_drain:\n",
    "        # If the node is not in the boundary condition drain, reduce it and its associated lines\n",
    "        indexc3.append(indexc[j])  # Add the reduced node to indexc3\n",
    "        jred += 1\n",
    "        kred = -1  # Reset the counter for the reduced indexc3\n",
    "\n",
    "        # Iterate through the original indexc2 array again\n",
    "        for k in range(0, nn):\n",
    "            if indexc2[k] not in boundary_condition_drain:\n",
    "                # If the node is not in the boundary condition drain, reduce it and its associated lines\n",
    "                kred += 1\n",
    "                L_red_red[kred][jred] = L_red[k][j]  # Copy the reduced line values to L_red_red\n",
    "    else:\n",
    "        bi = -1  # Reset the counter for the 'b' vector\n",
    "        for k in range(0, nn):\n",
    "            if indexc2[k] not in boundary_condition_drain:\n",
    "                # If the node is not in the boundary condition drain, add its value to the 'b' vector\n",
    "                bi += 1\n",
    "                b[bi][0] = b[bi][0] + L_red[k][j]\n",
    "\n",
    "# Note: This code further reduces the matrix L_red by eliminating lines associated with drain boundary conditions.\n",
    "# It also creates a reduced index list indexc3 and a vector 'b' containing boundary conditions for non-drain nodes."
   ]
  },
  {
   "cell_type": "code",
   "execution_count": null,
   "id": "Ks_OpGftk7e-",
   "metadata": {
    "id": "Ks_OpGftk7e-"
   },
   "outputs": [],
   "source": [
    "print(L_red_red)\n",
    "print(len(L_red_red))\n",
    "print(len(b))\n",
    "valores, contagens = np.unique(b, return_counts = True)\n",
    "resultado = dict(zip(valores, contagens))\n",
    "\n",
    "for valor, quantidade in resultado.items():\n",
    "  print(f\"Valor {valor} aparece = {quantidade}\")"
   ]
  },
  {
   "cell_type": "code",
   "execution_count": null,
   "id": "ccYAN4PCvW24",
   "metadata": {
    "id": "ccYAN4PCvW24"
   },
   "outputs": [],
   "source": [
    "vv = np.linalg.solve(L_red_red,b)"
   ]
  },
  {
   "cell_type": "markdown",
   "id": "f7abd047",
   "metadata": {},
   "source": [
    "### Calculando a resistência para o grafo do exemplo da Figura mostrada no texto"
   ]
  },
  {
   "cell_type": "code",
   "execution_count": null,
   "id": "mmEPxKIy250r",
   "metadata": {
    "id": "mmEPxKIy250r"
   },
   "outputs": [],
   "source": [
    "connected_nodes = [1,2,3,4]\n",
    "connected_lines = [(1,2,4),(1,3,5),(2,3),(4,5)]\n",
    "boundary_condition_drain = [1]\n",
    "boundary_condition_source = [4]\n",
    "\n",
    "def matrixA2():\n",
    "            vll = []\n",
    "            indexc = connected_nodes\n",
    "            numbc = len(connected_nodes)\n",
    "            numbl = 0\n",
    "            for i in range(0,numbc):\n",
    "\n",
    "                # l0 = connected_lines[i][0]\n",
    "                # if l0 not in vll:\n",
    "                #   numbl = numbl + 1\n",
    "                #   vll.append(l0)\n",
    "                # l1 = connected_lines[i][1]\n",
    "                # if l1 not in vll:\n",
    "                #   numbl = numbl + 1\n",
    "                #   vll.append(l1)\n",
    "\n",
    "                for ll in connected_lines[i]:\n",
    "                  if ll not in vll:\n",
    "                      numbl = numbl + 1\n",
    "                      vll.append(ll)\n",
    "\n",
    "            indexl = vll\n",
    "            ad = np.zeros((numbl,numbc))\n",
    "\n",
    "            mc = -1\n",
    "            visited_lines = []\n",
    "            for i in range(0,numbc):\n",
    "\n",
    "                # mc = mc + 1\n",
    "                # l0 = connected_lines[i][0]\n",
    "                # if l0 in visited_lines:\n",
    "                #   ml = visited_lines.index(l0)\n",
    "                #   ad[ml][mc] = 1\n",
    "                # else:\n",
    "                #   visited_lines.append(l0)\n",
    "                #   ml = visited_lines.index(l0)\n",
    "                #   ad[ml][mc] = -1\n",
    "                # l1 = connected_lines[i][1]\n",
    "                # if l1 in visited_lines:\n",
    "                #   ml = visited_lines.index(l1)\n",
    "                #   ad[ml][mc] = 1\n",
    "                # else:\n",
    "                #   visited_lines.append(l1)\n",
    "                #   ml = visited_lines.index(l1)\n",
    "                #   ad[ml][mc] = -1\n",
    "\n",
    "                mc = mc + 1\n",
    "                for ll in connected_lines[i]:\n",
    "                  if ll in visited_lines:\n",
    "                    ml = visited_lines.index(ll)\n",
    "                    ad[ml][mc] = 1\n",
    "                  else:\n",
    "                    visited_lines.append(ll)\n",
    "                    ml = visited_lines.index(ll)\n",
    "                    ad[ml][mc] = -1\n",
    "\n",
    "            return ad, indexc, indexl"
   ]
  },
  {
   "cell_type": "code",
   "execution_count": null,
   "id": "qIiinz0F37zI",
   "metadata": {
    "colab": {
     "base_uri": "https://localhost:8080/"
    },
    "id": "qIiinz0F37zI",
    "outputId": "1f7b5dcf-fac9-4814-aac6-e56c07f6c147"
   },
   "outputs": [],
   "source": [
    "aa, indexc, indexl = matrixA2()\n",
    "L = aa.T@aa\n",
    "print(\"aa =\", aa)\n",
    "print(\"Columns = \", indexc)\n",
    "print(\"Rows =\", indexl)\n",
    "print(\"\\n L =\", L)\n",
    "# print(len(L))"
   ]
  },
  {
   "cell_type": "code",
   "execution_count": null,
   "id": "TWJsZNfO4UQY",
   "metadata": {
    "id": "TWJsZNfO4UQY"
   },
   "outputs": [],
   "source": [
    "nn = len(L)\n",
    "indexc2 = []\n",
    "list_of_lines_eliminate = []\n",
    "for i in indexc:\n",
    "  if i in boundary_condition_source:\n",
    "    list_of_lines_eliminate.append(i)\n",
    "\n",
    "ne = len(list_of_lines_eliminate)\n",
    "\n",
    "L_red = np.zeros((nn-ne, nn-ne))\n",
    "\n",
    "jred = -1\n",
    "kred = -1\n",
    "for j in range(0, nn):\n",
    "  if indexc[j] not in boundary_condition_source:\n",
    "      jred = jred + 1\n",
    "      indexc2.append(indexc[j])\n",
    "      kred = -1\n",
    "      for k in range(0, nn):\n",
    "          if indexc[k] not in boundary_condition_source:\n",
    "            kred = kred + 1\n",
    "            L_red[kred][jred] = L[k][j]"
   ]
  },
  {
   "cell_type": "code",
   "execution_count": null,
   "id": "TQRbislm4cby",
   "metadata": {
    "colab": {
     "base_uri": "https://localhost:8080/"
    },
    "id": "TQRbislm4cby",
    "outputId": "ea3628af-232a-4eb0-dc70-aea444279d9f"
   },
   "outputs": [],
   "source": [
    "print(\"Rred = \", L_red)\n",
    "# print(len(L_red))\n",
    "print(\"Columns = Rows =\", indexc2)\n",
    "# print(len(indexc2))\n",
    "# print(ne)\n",
    "# print(boundary_condition_drain)"
   ]
  },
  {
   "cell_type": "code",
   "execution_count": null,
   "id": "HX118dVW49kg",
   "metadata": {
    "id": "HX118dVW49kg"
   },
   "outputs": [],
   "source": [
    "nn = len(L_red)\n",
    "indexc3 = []\n",
    "list_of_lines_eliminate2 = []\n",
    "for i in indexc:\n",
    "  if i in boundary_condition_drain:\n",
    "    list_of_lines_eliminate2.append(i)\n",
    "\n",
    "ne = len(list_of_lines_eliminate2)\n",
    "\n",
    "L_red_red = np.zeros((nn-ne, nn-ne))\n",
    "b = np.zeros((nn-ne,1))\n",
    "\n",
    "jred = -1\n",
    "kred = -1\n",
    "bi = -1\n",
    "for j in range(0, nn):\n",
    "  if indexc2[j] not in boundary_condition_drain:\n",
    "      indexc3.append(indexc[j])\n",
    "      jred = jred + 1\n",
    "      kred = -1\n",
    "      for k in range(0, nn):\n",
    "          if indexc2[k] not in boundary_condition_drain:\n",
    "            kred = kred + 1\n",
    "            L_red_red[kred][jred] = L_red[k][j]\n",
    "  else:\n",
    "      bi = -1\n",
    "      for k in range(0, nn):\n",
    "          if indexc2[k] not in boundary_condition_drain:\n",
    "            bi = bi + 1\n",
    "            b[bi][0] = b[bi][0] - L_red[k][j]"
   ]
  },
  {
   "cell_type": "code",
   "execution_count": null,
   "id": "3YTUtboC5M-i",
   "metadata": {
    "colab": {
     "base_uri": "https://localhost:8080/"
    },
    "id": "3YTUtboC5M-i",
    "outputId": "8cf89613-1547-4b60-84a3-eb8d9d856824"
   },
   "outputs": [],
   "source": [
    "print(\"Lred2 = \", L_red_red)\n",
    "print(\"Columns = Rows =\", indexc3)\n",
    "print(\"b =\", b)"
   ]
  },
  {
   "cell_type": "code",
   "execution_count": null,
   "id": "-dj8tAy9DYaQ",
   "metadata": {
    "colab": {
     "base_uri": "https://localhost:8080/"
    },
    "id": "-dj8tAy9DYaQ",
    "outputId": "49f3637f-9763-47e0-8c36-73ed8536a099"
   },
   "outputs": [],
   "source": [
    "np.linalg.inv(L_red_red)"
   ]
  },
  {
   "cell_type": "code",
   "execution_count": null,
   "id": "oDscmM4S5muD",
   "metadata": {
    "colab": {
     "base_uri": "https://localhost:8080/"
    },
    "id": "oDscmM4S5muD",
    "outputId": "9e34dcd3-4759-43a0-cd43-1b956b56b802"
   },
   "outputs": [],
   "source": [
    "vv = np.linalg.solve(L_red_red,b)\n",
    "nns = len(indexc)\n",
    "vvc = np.zeros(nns)\n",
    "for nodes in boundary_condition_source:\n",
    "  indexns = indexc.index(nodes)\n",
    "  vvc[indexns] = 0\n",
    "for noded in boundary_condition_drain:\n",
    "  indexnd = indexc.index(noded)\n",
    "  vvc[indexnd] = 1\n",
    "for nodei in indexc3:\n",
    "  indexni1 = indexc3.index(nodei)\n",
    "  indexni2 = indexc.index(nodei)\n",
    "  vvc[indexni2] = vv[indexni1]\n",
    "print(\"vvc = \", vvc)"
   ]
  },
  {
   "cell_type": "code",
   "execution_count": null,
   "id": "2fXwhPuj7GDK",
   "metadata": {
    "colab": {
     "base_uri": "https://localhost:8080/"
    },
    "id": "2fXwhPuj7GDK",
    "outputId": "ee62cd0c-c818-4373-81ed-8e04e353338d"
   },
   "outputs": [],
   "source": [
    "print(aa)\n",
    "ic = -aa@vvc\n",
    "print(ic)"
   ]
  },
  {
   "cell_type": "code",
   "execution_count": null,
   "id": "ce323941",
   "metadata": {},
   "outputs": [],
   "source": [
    "# Initialize a variable to accumulate the sum of currents\n",
    "isum = 0\n",
    "\n",
    "# Iterate through the nodes in the 'boundary_condition_drain' list\n",
    "for nodesd in boundary_condition_drain:\n",
    "    # Find the index of the current node 'nodesd' within 'boundary_condition_drain'\n",
    "    indexnd = boundary_condition_drain.index(nodesd)\n",
    "\n",
    "    # Iterate through the edges (lines) connected to the current drain node\n",
    "    for edgesd in connected_lines[indexnd]:\n",
    "        # Find the index of the current edge (line) 'edgesd' within 'connected_lines[indexnd]'\n",
    "        indexed = connected_lines[indexnd].index(edgesd)\n",
    "\n",
    "        # Accumulate the current 'ic' associated with the current edge (line)\n",
    "        isum = isum + ic[indexed]\n",
    "\n",
    "# Calculate the resistance (Res) using the accumulated current and a constant factor\n",
    "Res = 1e3 / isum  # 1e3 is a constant factor to convert to Ohms (1,000 Ohms)\n",
    "\n",
    "# Print the calculated resistance value\n",
    "print(\"Resistance in Ohm =\", Res)\n"
   ]
  },
  {
   "cell_type": "code",
   "execution_count": null,
   "id": "yJTZ0JjT9OLZ",
   "metadata": {
    "colab": {
     "base_uri": "https://localhost:8080/"
    },
    "id": "yJTZ0JjT9OLZ",
    "outputId": "e0108f4d-6d3e-4cd0-d591-a479c4b4ffeb"
   },
   "outputs": [],
   "source": [
    "isum = 0\n",
    "for nodesd in boundary_condition_drain:\n",
    "  indexnd = boundary_condition_drain.index(nodesd)\n",
    "  for edgesd in connected_lines[indexnd]:\n",
    "    indexed = connected_lines[indexnd].index(edgesd)\n",
    "    isum = isum + ic[indexed]\n",
    "Res = 1e3 / isum\n",
    "print(\"Resistance in Ohm =\", Res)"
   ]
  }
 ],
 "metadata": {
  "colab": {
   "provenance": []
  },
  "kernelspec": {
   "display_name": "Python 3 (ipykernel)",
   "language": "python",
   "name": "python3"
  },
  "language_info": {
   "codemirror_mode": {
    "name": "ipython",
    "version": 3
   },
   "file_extension": ".py",
   "mimetype": "text/x-python",
   "name": "python",
   "nbconvert_exporter": "python",
   "pygments_lexer": "ipython3",
   "version": "3.11.2"
  }
 },
 "nbformat": 4,
 "nbformat_minor": 5
}
